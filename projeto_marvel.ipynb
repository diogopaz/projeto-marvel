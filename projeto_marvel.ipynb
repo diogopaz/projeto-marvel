{
  "nbformat": 4,
  "nbformat_minor": 0,
  "metadata": {
    "colab": {
      "provenance": [],
      "authorship_tag": "ABX9TyNb3tI9PYmOOX9DlJMoEmiC",
      "include_colab_link": true
    },
    "kernelspec": {
      "name": "python3",
      "display_name": "Python 3"
    },
    "language_info": {
      "name": "python"
    }
  },
  "cells": [
    {
      "cell_type": "markdown",
      "metadata": {
        "id": "view-in-github",
        "colab_type": "text"
      },
      "source": [
        "<a href=\"https://colab.research.google.com/github/diogopaz/projeto-marvel/blob/DatabaseBrch/projeto_marvel.ipynb\" target=\"_parent\"><img src=\"https://colab.research.google.com/assets/colab-badge.svg\" alt=\"Open In Colab\"/></a>"
      ]
    },
    {
      "cell_type": "markdown",
      "source": [
        "# Importando bibliotecas necessárias"
      ],
      "metadata": {
        "id": "vdNqYaOZWaHi"
      }
    },
    {
      "cell_type": "code",
      "execution_count": null,
      "metadata": {
        "id": "tMDmYgk_y8wZ"
      },
      "outputs": [],
      "source": [
        "!pip install dotenv"
      ]
    },
    {
      "cell_type": "code",
      "source": [
        "import requests\n",
        "import hashlib\n",
        "import time\n",
        "import os\n",
        "import pandas as pd\n",
        "from dotenv import load_dotenv\n",
        "import sqlite3\n",
        "from google.colab import userdata\n"
      ],
      "metadata": {
        "id": "dpKgBGHWWmPs"
      },
      "execution_count": null,
      "outputs": []
    },
    {
      "cell_type": "markdown",
      "source": [
        "# Carregando variáveis de ambiente\n",
        "Estamos fazendo upload do arquivo .env com as chaves de acesso à API no ambeinte de execução do colab."
      ],
      "metadata": {
        "id": "r_cOQZZ2XEZy"
      }
    },
    {
      "cell_type": "code",
      "source": [
        "load_dotenv(dotenv_path='/content/.env')\n",
        "public_key = userdata.get('MARVEL_PUBLIC_KEY') or os.getenv('MARVEL_PUBLIC_KEY')\n",
        "private_key = userdata.get('MARVEL_PRIVATE_KEY') or os.getenv('MARVEL_PRIVATE_KEY')"
      ],
      "metadata": {
        "id": "GiFPSe23XIIp"
      },
      "execution_count": null,
      "outputs": []
    },
    {
      "cell_type": "markdown",
      "source": [
        "# Montando os parâmetros para realizar a requisição"
      ],
      "metadata": {
        "id": "mUmpTS3_X3-a"
      }
    },
    {
      "cell_type": "code",
      "source": [
        "ts = str(time.time())\n",
        "to_hash = ts + str(private_key) + str(public_key)\n",
        "hash_md5 = hashlib.md5(to_hash.encode('utf-8')).hexdigest()\n",
        "\n",
        "params = {\n",
        "    'apikey': public_key,\n",
        "    'ts': ts,\n",
        "    'hash': hash_md5,\n",
        "    'limit': 100\n",
        "}"
      ],
      "metadata": {
        "id": "KA7kXDAwX83L"
      },
      "execution_count": null,
      "outputs": []
    },
    {
      "cell_type": "markdown",
      "source": [
        "# Realizando a requisição"
      ],
      "metadata": {
        "id": "SIwq1loaYvgG"
      }
    },
    {
      "cell_type": "code",
      "source": [
        "url = 'https://gateway.marvel.com/v1/public/characters'\n",
        "\n",
        "response = requests.get(url, params=params)\n",
        "data = response.json()\n",
        "data"
      ],
      "metadata": {
        "id": "KF87oyL5YAAF"
      },
      "execution_count": null,
      "outputs": []
    },
    {
      "cell_type": "code",
      "source": [
        "df = pd.DataFrame(data['data']['results'])\n",
        "df.columns"
      ],
      "metadata": {
        "id": "DoLUIR8yYZAM"
      },
      "execution_count": null,
      "outputs": []
    },
    {
      "cell_type": "markdown",
      "source": [
        "# Criação da tabela de personagens no banco de dados sqlite"
      ],
      "metadata": {
        "id": "XvPU-kY-icEK"
      }
    },
    {
      "cell_type": "code",
      "source": [
        "def get_auth_params():\n",
        "    ts = str(time.time())\n",
        "    to_hash = ts + private_key + public_key\n",
        "    hash_md5 = hashlib.md5(to_hash.encode()).hexdigest()\n",
        "    return {\n",
        "        'ts': ts,\n",
        "        'apikey': public_key,\n",
        "        'hash': hash_md5\n",
        "    }"
      ],
      "metadata": {
        "id": "A3RwyQeBk_Bt"
      },
      "execution_count": null,
      "outputs": []
    },
    {
      "cell_type": "code",
      "source": [
        "url = 'https://gateway.marvel.com/v1/public/characters'\n",
        "# >>> Conecta (ou cria) o banco SQLite\n",
        "conn = sqlite3.connect('marvel.db')\n",
        "cursor = conn.cursor()\n",
        "\n",
        "# >>> Cria tabela characters (sem thumbnail/resource_uri)\n",
        "cursor.execute('''\n",
        "CREATE TABLE IF NOT EXISTS characters (\n",
        "    id INTEGER PRIMARY KEY,\n",
        "    name TEXT,\n",
        "    description TEXT,\n",
        "    modified TEXT\n",
        ")\n",
        "''')\n",
        "\n",
        "# >>> Cria tabela character_comics (relacionamento N:N entre personagens e comics)\n",
        "cursor.execute('''\n",
        "CREATE TABLE IF NOT EXISTS character_comics (\n",
        "    character_id INTEGER,\n",
        "    comic_id INTEGER,\n",
        "    PRIMARY KEY (character_id, comic_id)\n",
        ")\n",
        "''')\n",
        "\n",
        "conn.commit()\n",
        "\n",
        "# >>> Função para montar hash exigido pela Marvel\n",
        "def get_auth_params():\n",
        "    ts = str(time.time())\n",
        "    to_hash = ts + private_key + public_key\n",
        "    hash_md5 = hashlib.md5(to_hash.encode()).hexdigest()\n",
        "    return {\n",
        "        'ts': ts,\n",
        "        'apikey': public_key,\n",
        "        'hash': hash_md5\n",
        "    }\n",
        "\n",
        "# >>> Função para salvar um personagem no banco\n",
        "def save_character(char):\n",
        "    cursor.execute('''\n",
        "    INSERT OR REPLACE INTO characters (id, name, description, modified)\n",
        "    VALUES (?, ?, ?, ?)\n",
        "    ''', (\n",
        "        char['id'],\n",
        "        char['name'],\n",
        "        char.get('description', ''),\n",
        "        char.get('modified', '')\n",
        "    ))\n",
        "\n",
        "    # >>> Salva os comics vinculados ao personagem\n",
        "    for comic in char.get('comics', {}).get('items', []):\n",
        "        resource_uri = comic.get('resourceURI', '')\n",
        "        try:\n",
        "            comic_id = int(resource_uri.strip().split('/')[-1])\n",
        "            cursor.execute('''\n",
        "                INSERT OR IGNORE INTO character_comics (character_id, comic_id)\n",
        "                VALUES (?, ?)\n",
        "            ''', (char['id'], comic_id))\n",
        "        except (IndexError, ValueError):\n",
        "            print(f'❌ Erro ao extrair comic_id de {resource_uri}')\n",
        "\n",
        "    conn.commit()\n",
        "\n",
        "# >>> Baixa e salva todos os personagens\n",
        "def fetch_and_save_characters():\n",
        "    limit = 100\n",
        "    offset = 0\n",
        "    total = 1  # valor fictício inicial\n",
        "\n",
        "    while offset < total:\n",
        "        print(f'⏳ Buscando personagens... offset={offset}')\n",
        "        params = get_auth_params()\n",
        "        params.update({\n",
        "            'limit': limit,\n",
        "            'offset': offset\n",
        "        })\n",
        "\n",
        "        response = requests.get(url, params=params)\n",
        "        if response.status_code != 200:\n",
        "            print(f'⚠️ Erro na requisição: {response.status_code}')\n",
        "            break\n",
        "\n",
        "        data = response.json()['data']\n",
        "        total = data['total']\n",
        "        results = data['results']\n",
        "\n",
        "        for char in results:\n",
        "            save_character(char)\n",
        "\n",
        "        offset += limit\n",
        "        time.sleep(0.1)  # respeita limites\n",
        "\n",
        "    print('✅ Todos os personagens e comics foram salvos no banco!')\n",
        "\n",
        "# >>> Executa\n",
        "fetch_and_save_characters()\n",
        "\n",
        "# >>> Fecha conexão\n",
        "conn.close()\n",
        "\n"
      ],
      "metadata": {
        "id": "_QVqf4g547hg"
      },
      "execution_count": null,
      "outputs": []
    },
    {
      "cell_type": "code",
      "source": [
        "conn = sqlite3.connect('marvel.db')\n",
        "cursor = conn.cursor()\n",
        "cursor.execute('select * from characters')\n",
        "results_sqlite = cursor.fetchall()\n",
        "conn.close()\n",
        "results_sqlite"
      ],
      "metadata": {
        "id": "cGPwSy9z5mfT"
      },
      "execution_count": null,
      "outputs": []
    },
    {
      "cell_type": "code",
      "source": [
        "try:\n",
        "    conn.commit()\n",
        "except:\n",
        "    pass\n",
        "\n",
        "try:\n",
        "    conn.close()\n",
        "except:\n",
        "    pass\n",
        "\n",
        "conn = sqlite3.connect('marvel.db')\n",
        "cursor = conn.cursor()\n",
        "\n",
        "# Tabela de comics\n",
        "cursor.execute('''\n",
        "CREATE TABLE IF NOT EXISTS comics (\n",
        "    id INTEGER PRIMARY KEY,\n",
        "    title TEXT,\n",
        "    page_count INTEGER,\n",
        "    variant_count INTEGER\n",
        ")\n",
        "''')\n",
        "\n",
        "# Relacionamento comic -> creator\n",
        "cursor.execute('''\n",
        "CREATE TABLE IF NOT EXISTS comic_creators (\n",
        "    comic_id INTEGER,\n",
        "    creator_id INTEGER,\n",
        "    role TEXT,\n",
        "    PRIMARY KEY (comic_id, creator_id, role)\n",
        ")\n",
        "''')\n",
        "\n",
        "# Preços das comics\n",
        "cursor.execute('''\n",
        "CREATE TABLE IF NOT EXISTS comic_prices (\n",
        "    comic_id INTEGER,\n",
        "    type TEXT,\n",
        "    price REAL,\n",
        "    PRIMARY KEY (comic_id, type)\n",
        ")\n",
        "''')\n",
        "\n",
        "conn.commit()\n",
        "\n"
      ],
      "metadata": {
        "id": "mkdFW8BwjxJk"
      },
      "execution_count": null,
      "outputs": []
    },
    {
      "cell_type": "code",
      "source": [
        "def save_comic(comic):\n",
        "    comic_id = comic.get('id')\n",
        "    if not comic_id or 'title' not in comic:\n",
        "        print(f\"⚠️ Comic ignorada por dados incompletos: {comic_id}\")\n",
        "        return\n",
        "\n",
        "    title = comic['title']\n",
        "    page_count = comic.get('pageCount', 0)\n",
        "    variant_count = len(comic.get('variants', []))\n",
        "\n",
        "    # Salva a comic\n",
        "    cursor.execute('''\n",
        "    INSERT OR REPLACE INTO comics (id, title, page_count, variant_count)\n",
        "    VALUES (?, ?, ?, ?)\n",
        "    ''', (comic_id, title, page_count, variant_count))\n",
        "\n",
        "    # Salva os preços\n",
        "    for price in comic.get('prices', []):\n",
        "        cursor.execute('''\n",
        "        INSERT OR REPLACE INTO comic_prices (comic_id, type, price)\n",
        "        VALUES (?, ?, ?)\n",
        "        ''', (comic_id, price.get('type', ''), price.get('price', 0.0)))\n",
        "\n",
        "    # Salva os creators associados\n",
        "    for creator in comic.get('creators', {}).get('items', []):\n",
        "        try:\n",
        "            resource_uri = creator.get('resourceURI', '')\n",
        "            creator_id = int(resource_uri.strip().split('/')[-1])\n",
        "            role = creator.get('role', '')\n",
        "            cursor.execute('''\n",
        "            INSERT OR IGNORE INTO comic_creators (comic_id, creator_id, role)\n",
        "            VALUES (?, ?, ?)\n",
        "            ''', (comic_id, creator_id, role))\n",
        "        except (IndexError, ValueError):\n",
        "            print(f'❌ Erro ao extrair creator_id de {resource_uri}')\n",
        "\n",
        "    conn.commit()\n"
      ],
      "metadata": {
        "id": "LkMtoTIckil4"
      },
      "execution_count": null,
      "outputs": []
    },
    {
      "cell_type": "code",
      "source": [
        "def fetch_and_save_comics():\n",
        "    limit = 100\n",
        "    offset = 0\n",
        "    total = 1  # valor inicial fictício\n",
        "    comics_url = \"https://gateway.marvel.com/v1/public/comics\"  # ou use variável se já tiver `url_comics`\n",
        "\n",
        "    while offset < total:\n",
        "        print(f'⏳ Buscando comics... offset={offset}')\n",
        "        params = get_auth_params()\n",
        "        params.update({\n",
        "            'limit': limit,\n",
        "            'offset': offset\n",
        "        })\n",
        "\n",
        "        response = requests.get(comics_url, params=params)\n",
        "        if response.status_code != 200:\n",
        "            print(f'⚠️ Erro na requisição: {response.status_code}: {response.text}')\n",
        "            break\n",
        "\n",
        "        data = response.json()['data']\n",
        "        total = data['total']\n",
        "        results = data['results']\n",
        "\n",
        "        for comic in results:\n",
        "            save_comic(comic)\n",
        "\n",
        "        offset += limit\n",
        "        time.sleep(0.1)\n",
        "\n",
        "    print('✅ Todas as comics foram salvas no banco!')\n"
      ],
      "metadata": {
        "id": "njRmeqrKknCj"
      },
      "execution_count": null,
      "outputs": []
    },
    {
      "cell_type": "code",
      "source": [
        "fetch_and_save_comics()"
      ],
      "metadata": {
        "id": "bEy-0OBskpWo"
      },
      "execution_count": null,
      "outputs": []
    }
  ]
}