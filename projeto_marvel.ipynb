{
  "nbformat": 4,
  "nbformat_minor": 0,
  "metadata": {
    "colab": {
      "provenance": [],
      "include_colab_link": true
    },
    "kernelspec": {
      "name": "python3",
      "display_name": "Python 3"
    },
    "language_info": {
      "name": "python"
    }
  },
  "cells": [
    {
      "cell_type": "markdown",
      "metadata": {
        "id": "view-in-github",
        "colab_type": "text"
      },
      "source": [
        "<a href=\"https://colab.research.google.com/github/diogopaz/projeto-marvel/blob/refactor-functions/projeto_marvel.ipynb\" target=\"_parent\"><img src=\"https://colab.research.google.com/assets/colab-badge.svg\" alt=\"Open In Colab\"/></a>"
      ]
    },
    {
      "cell_type": "markdown",
      "source": [
        "# Importando bibliotecas necessárias"
      ],
      "metadata": {
        "id": "vdNqYaOZWaHi"
      }
    },
    {
      "cell_type": "code",
      "execution_count": null,
      "metadata": {
        "id": "tMDmYgk_y8wZ"
      },
      "outputs": [],
      "source": [
        "!pip install dotenv --quiet\n",
        "!pip install plotly --quiet"
      ]
    },
    {
      "cell_type": "code",
      "source": [
        "import requests\n",
        "import hashlib\n",
        "import time\n",
        "import os\n",
        "import pandas as pd\n",
        "from dotenv import load_dotenv\n",
        "import sqlite3\n",
        "from google.colab import userdata\n",
        "import matplotlib.pyplot as plt\n",
        "import plotly.express as px\n",
        "import plotly.graph_objects as go"
      ],
      "metadata": {
        "id": "dpKgBGHWWmPs"
      },
      "execution_count": null,
      "outputs": []
    },
    {
      "cell_type": "markdown",
      "source": [
        "# Carregando variáveis de ambiente\n",
        "Estamos fazendo upload do arquivo .env com as chaves de acesso à API no ambeinte de execução do colab."
      ],
      "metadata": {
        "id": "r_cOQZZ2XEZy"
      }
    },
    {
      "cell_type": "code",
      "source": [
        "load_dotenv(dotenv_path='/content/.env')\n",
        "public_key = userdata.get('MARVEL_PUBLIC_KEY') or os.getenv('MARVEL_PUBLIC_KEY')\n",
        "private_key = userdata.get('MARVEL_PRIVATE_KEY') or os.getenv('MARVEL_PRIVATE_KEY')"
      ],
      "metadata": {
        "id": "GiFPSe23XIIp"
      },
      "execution_count": null,
      "outputs": []
    },
    {
      "cell_type": "markdown",
      "source": [
        "# Montando os parâmetros para realizar a requisição"
      ],
      "metadata": {
        "id": "mUmpTS3_X3-a"
      }
    },
    {
      "cell_type": "code",
      "source": [
        "def get_auth_params():\n",
        "    ts = str(time.time())\n",
        "    to_hash = ts + private_key + public_key\n",
        "    hash_md5 = hashlib.md5(to_hash.encode()).hexdigest()\n",
        "    return {\n",
        "        'ts': ts,\n",
        "        'apikey': public_key,\n",
        "        'hash': hash_md5\n",
        "    }"
      ],
      "metadata": {
        "id": "KA7kXDAwX83L"
      },
      "execution_count": null,
      "outputs": []
    },
    {
      "cell_type": "code",
      "source": [
        "# Função para testes rápidos\n",
        "def req(endpoint, limit = 100, offset = 0):\n",
        "  params = get_auth_params()\n",
        "  params.update({\n",
        "      'limit': limit,\n",
        "      'offset': offset\n",
        "  })\n",
        "  response = requests.get(f'https://gateway.marvel.com/v1/public/{endpoint}', params=params)\n",
        "  data = response.json()\n",
        "  return data"
      ],
      "metadata": {
        "id": "Q9dLNowzHnex"
      },
      "execution_count": null,
      "outputs": []
    },
    {
      "cell_type": "markdown",
      "source": [
        "# Buscando os dados na API da Marvel"
      ],
      "metadata": {
        "id": "7gCmqovRavmK"
      }
    },
    {
      "cell_type": "code",
      "source": [
        "def fetch_from_marvel(endpoint, limit = 100, offset = 0):\n",
        "  \"\"\"Busca todos os resultados de um endpoint paginado da Marvel API\"\"\"\n",
        "  limit = limit\n",
        "  offset = offset\n",
        "  all_results = []\n",
        "  total = 1\n",
        "  req_count = 0\n",
        "\n",
        "  print(f\"Iniciando requisições para o endpoint: {endpoint}\")\n",
        "\n",
        "  while offset < total:\n",
        "    params = get_auth_params()\n",
        "    params[\"limit\"] = limit\n",
        "    params[\"offset\"] = offset\n",
        "\n",
        "    try:\n",
        "      response = requests.get(endpoint, params=params)\n",
        "      response.raise_for_status()\n",
        "      data = response.json().get(\"data\", {})\n",
        "      total = data['total']\n",
        "      results = data.get(\"results\", [])\n",
        "      if not results:\n",
        "        break\n",
        "\n",
        "      all_results.extend(results)\n",
        "      print(f\"Recebidos {len(results)} resultados (offset {offset})\")\n",
        "\n",
        "      offset += limit\n",
        "      req_count += 1\n",
        "      time.sleep(1)\n",
        "    except Exception as e:\n",
        "      print(f\"Erro em offset {offset}: {e}. Pulando...\")\n",
        "      offset += limit\n",
        "      req_count += 1\n",
        "      time.sleep(1)\n",
        "\n",
        "  # Exportando dados brutos para csv\n",
        "  df = pd.DataFrame(all_results)\n",
        "  df.to_csv(f'{endpoint.split(\"/\")[-1]}.csv')\n",
        "\n",
        "  print(f'''\n",
        "  Sucesso! Recebidos {len(all_results)} resultados.\n",
        "  Requisições realizadas: {req_count}.\n",
        "  Dados brutos salvos em: {endpoint.split(\"/\")[-1]}.csv\n",
        "  ''')\n",
        "\n",
        "  return df"
      ],
      "metadata": {
        "id": "e1PB7KXYk_vo"
      },
      "execution_count": null,
      "outputs": []
    },
    {
      "cell_type": "markdown",
      "source": [
        "## Filtrando os dados e salvando no banco"
      ],
      "metadata": {
        "id": "9uoCjDjN7Fi4"
      }
    },
    {
      "cell_type": "code",
      "source": [
        "# Função que manda o DataFrame com dados filtrados para o banco de dados desejado\n",
        "def to_db(df, table_name, db_name):\n",
        "  try:\n",
        "    conn = sqlite3.connect(f\"{db_name}.db\")\n",
        "    df.to_sql(table_name, conn, index=False, if_exists='replace')\n",
        "    conn.commit()\n",
        "    conn.close()\n",
        "    print('Dados salvos no banco')\n",
        "  except Exception as e:\n",
        "    conn.close()\n",
        "    print(e)"
      ],
      "metadata": {
        "id": "OfDDNu3-y5vY"
      },
      "execution_count": null,
      "outputs": []
    },
    {
      "cell_type": "markdown",
      "source": [
        "### Characters"
      ],
      "metadata": {
        "id": "DTYb1dYQbaoK"
      }
    },
    {
      "cell_type": "code",
      "source": [
        "characters = fetch_from_marvel('https://gateway.marvel.com/v1/public/characters')\n",
        "characters['comics_available'] = characters['comics'].apply(lambda x: x.get('available'))\n",
        "characters = characters[['id', 'name', 'description', 'modified', 'comics_available']]\n",
        "to_db(characters, table_name='characters', db_name='marvel')"
      ],
      "metadata": {
        "id": "uIZeBRB8Zc8D"
      },
      "execution_count": null,
      "outputs": []
    },
    {
      "cell_type": "markdown",
      "source": [
        "### Comics"
      ],
      "metadata": {
        "id": "UgGFR-dnbeSJ"
      }
    },
    {
      "cell_type": "code",
      "source": [
        "comics = fetch_from_marvel('https://gateway.marvel.com/v1/public/comics')\n",
        "comics['variant_count'] = comics['variants'].apply(lambda x: len(x))\n",
        "comics['page_count'] = comics['pageCount']\n",
        "comics = comics[['id', 'title', 'page_count', 'variant_count']]\n",
        "to_db(comics, table_name='comics', db_name='marvel')"
      ],
      "metadata": {
        "id": "dWbU8rkG494t"
      },
      "execution_count": null,
      "outputs": []
    },
    {
      "cell_type": "markdown",
      "source": [
        "### Creators"
      ],
      "metadata": {
        "id": "F6gaIlPGbgDD"
      }
    },
    {
      "cell_type": "code",
      "source": [
        "creators = fetch_from_marvel('https://gateway.marvel.com/v1/public/creators', 20)\n",
        "creators = creators[['id', 'firstName', 'middleName', 'lastName', 'suffix', 'fullName', 'modified']]\n",
        "to_db(creators, table_name='creators', db_name='marvel')"
      ],
      "metadata": {
        "id": "WEX_y313ZsMx"
      },
      "execution_count": null,
      "outputs": []
    },
    {
      "cell_type": "markdown",
      "source": [
        "## Tabela comics"
      ],
      "metadata": {
        "id": "DXzcnGE4Pss8"
      }
    },
    {
      "cell_type": "code",
      "source": [
        "def save_comic(comic):\n",
        "    comic_id = comic.get('id')\n",
        "    if not comic_id or 'title' not in comic:\n",
        "        print(f\"Comic ignorada por dados incompletos: {comic_id}\")\n",
        "        return\n",
        "\n",
        "    title = comic['title']\n",
        "    page_count = comic.get('pageCount', 0)\n",
        "    variant_count = len(comic.get('variants', []))\n",
        "\n",
        "    conn = sqlite3.connect('marvel.db')\n",
        "    cursor = conn.cursor()\n",
        "\n",
        "    # Salva a comic\n",
        "    cursor.execute('''\n",
        "    INSERT OR REPLACE INTO comics (id, title, page_count, variant_count)\n",
        "    VALUES (?, ?, ?, ?)\n",
        "    ''', (comic_id, title, page_count, variant_count))\n",
        "\n",
        "    # Salva os preços\n",
        "    for price in comic.get('prices', []):\n",
        "        cursor.execute('''\n",
        "        INSERT OR REPLACE INTO comic_prices (comic_id, type, price)\n",
        "        VALUES (?, ?, ?)\n",
        "        ''', (comic_id, price.get('type', ''), price.get('price', 0.0)))\n",
        "\n",
        "    # Salva os creators associados\n",
        "    for creator in comic.get('creators', {}).get('items', []):\n",
        "        try:\n",
        "            resource_uri = creator.get('resourceURI', '')\n",
        "            creator_id = int(resource_uri.strip().split('/')[-1])\n",
        "            role = creator.get('role', '')\n",
        "            cursor.execute('''\n",
        "            INSERT OR IGNORE INTO comic_creators (comic_id, creator_id, role)\n",
        "            VALUES (?, ?, ?)\n",
        "            ''', (comic_id, creator_id, role))\n",
        "        except (IndexError, ValueError):\n",
        "            print(f'Erro ao extrair creator_id de {resource_uri}')\n",
        "\n",
        "    conn.commit()\n",
        "\n",
        "def fetch_and_save_comics():\n",
        "    limit = 100\n",
        "    offset = 0\n",
        "    total = 1  # valor inicial fictício\n",
        "    comics_url = \"https://gateway.marvel.com/v1/public/comics\"  # ou use variável se já tiver `url_comics`\n",
        "    count = 0\n",
        "    comicsArray = []\n",
        "\n",
        "    conn = sqlite3.connect('marvel.db')\n",
        "    cursor = conn.cursor()\n",
        "\n",
        "    # Tabela de comics\n",
        "    cursor.execute('''\n",
        "      CREATE TABLE IF NOT EXISTS comics (\n",
        "          id INTEGER PRIMARY KEY,\n",
        "          title TEXT,\n",
        "          page_count INTEGER,\n",
        "          variant_count INTEGER\n",
        "      )\n",
        "      ''')\n",
        "\n",
        "    # Relacionamento comic -> creator\n",
        "    cursor.execute('''\n",
        "      CREATE TABLE IF NOT EXISTS comic_creators (\n",
        "        comic_id INTEGER,\n",
        "        creator_id INTEGER,\n",
        "        role TEXT,\n",
        "        PRIMARY KEY (comic_id, creator_id, role)\n",
        "    )\n",
        "    ''')\n",
        "\n",
        "    # Preços das comics\n",
        "    cursor.execute('''\n",
        "      CREATE TABLE IF NOT EXISTS comic_prices (\n",
        "      comic_id INTEGER,\n",
        "      type TEXT,\n",
        "      price REAL,\n",
        "      PRIMARY KEY (comic_id, type)\n",
        "    )\n",
        "    ''')\n",
        "\n",
        "    while offset < total:\n",
        "        print(f'Buscando comics... offset={offset}')\n",
        "        params = get_auth_params()\n",
        "        params.update({\n",
        "            'limit': limit,\n",
        "            'offset': offset\n",
        "        })\n",
        "\n",
        "        response = requests.get(comics_url, params=params)\n",
        "        if response.status_code != 200:\n",
        "            print(f'Erro na requisição: {response.status_code}: {response.text}')\n",
        "            break\n",
        "\n",
        "        data = response.json()['data']\n",
        "        total = data['total']\n",
        "        results = data['results']\n",
        "\n",
        "        for comic in results:\n",
        "            save_comic(comic)\n",
        "            count += 1\n",
        "\n",
        "        comicsArray.extend(results)\n",
        "\n",
        "        offset += limit\n",
        "        time.sleep(0.1)\n",
        "\n",
        "    df = pd.DataFrame(comicsArray)\n",
        "    df.to_csv('comics.csv')\n",
        "    conn.commit()\n",
        "    conn.close()\n",
        "\n",
        "    print(f'Sucesso! {count} comics salvas no banco')\n"
      ],
      "metadata": {
        "id": "njRmeqrKknCj"
      },
      "execution_count": null,
      "outputs": []
    },
    {
      "cell_type": "code",
      "source": [
        "fetch_and_save_comics()"
      ],
      "metadata": {
        "id": "bEy-0OBskpWo"
      },
      "execution_count": null,
      "outputs": []
    },
    {
      "cell_type": "markdown",
      "source": [
        "## Tabela characters comics"
      ],
      "metadata": {
        "id": "H_SZ3pHFrDfO"
      }
    },
    {
      "cell_type": "code",
      "source": [
        "# Buscando todas as comics disponíveis do personagem\n",
        "def get_comics_for_character(character_id):\n",
        "  endpoint = f\"https://gateway.marvel.com/v1/public/characters/{character_id}/comics\"\n",
        "  params = get_auth_params()\n",
        "  params['limit'] = 100\n",
        "  comics = []\n",
        "  offset = 0\n",
        "\n",
        "  while True:\n",
        "    params[\"offset\"] = offset\n",
        "    response = requests.get(endpoint, params=params)\n",
        "    data = response.json()\n",
        "    results = data[\"data\"][\"results\"]\n",
        "    comics.extend([comic[\"id\"] for comic in results])\n",
        "\n",
        "    if len(results) < 100:\n",
        "      break\n",
        "    offset += 100\n",
        "\n",
        "  return comics\n",
        "\n",
        "# Criando tabela para relacionar characters e comics no banco\n",
        "def fetch_and_save_character_comics(character_ids, db_path=\"marvel.db\", csv_path=\"character_comics.csv\"):\n",
        "  conn = sqlite3.connect(db_path)\n",
        "  cursor = conn.cursor()\n",
        "\n",
        "  # Relacionamento de characters com comics\n",
        "  cursor.execute(\"\"\"\n",
        "      CREATE TABLE IF NOT EXISTS character_comics (\n",
        "      character_id INTEGER,\n",
        "      comic_id INTEGER,\n",
        "      PRIMARY KEY (character_id, comic_id)\n",
        "      )\n",
        "  \"\"\")\n",
        "\n",
        "  all_pairs = []\n",
        "\n",
        "  for character_id in character_ids:\n",
        "    try:\n",
        "      print(f\"Buscando comics para o personagem {character_id}...\")\n",
        "      comics = get_comics_for_character(character_id)\n",
        "      pairs = [(character_id, comic_id) for comic_id in comics]\n",
        "      all_pairs.extend(pairs)\n",
        "      print(f\"{len(comics)} comics encontrados para o personagem {character_id}\")\n",
        "    except Exception as e:\n",
        "      print(f\"Erro ao processar o personagem {character_id}: {e}\")\n",
        "\n",
        "  # Salvando em CSV\n",
        "  if all_pairs:\n",
        "    df = pd.DataFrame(all_pairs, columns=[\"character_id\", \"comic_id\"])\n",
        "    if os.path.exists(csv_path):\n",
        "      df.to_csv(csv_path, mode='a', header=False, index=False)\n",
        "    else:\n",
        "      df.to_csv(csv_path, index=False)\n",
        "    print(f\"Dados salvos em {csv_path}\")\n",
        "\n",
        "  # Inserindo no banco de dados\n",
        "  for pair in all_pairs:\n",
        "    cursor.execute(\"\"\"\n",
        "      INSERT OR IGNORE INTO character_comics (character_id, comic_id)\n",
        "      VALUES (?, ?)\n",
        "    \"\"\", pair)\n",
        "\n",
        "  conn.commit()\n",
        "  conn.close()\n",
        "  print(\"Dados armazenados no banco com sucesso.\")"
      ],
      "metadata": {
        "id": "uGReGqjit6SO"
      },
      "execution_count": null,
      "outputs": []
    },
    {
      "cell_type": "code",
      "source": [
        "# Selecionando os 10 personagens com maior número de quadrinhos\n",
        "ids_characters = []\n",
        "conn = sqlite3.connect(\"marvel.db\")\n",
        "cursor = conn.cursor()\n",
        "\n",
        "cursor.execute('''select id\n",
        "                  from characters\n",
        "                  order by comics_available desc\n",
        "                  limit 10;''')\n",
        "characters = cursor.fetchall()\n",
        "conn.close()\n",
        "\n",
        "for id in characters:\n",
        "  ids_characters.extend(id)\n",
        "\n",
        "ids_characters"
      ],
      "metadata": {
        "id": "4nsGQULzaO1v"
      },
      "execution_count": null,
      "outputs": []
    },
    {
      "cell_type": "code",
      "source": [
        "fetch_and_save_character_comics(ids_characters)"
      ],
      "metadata": {
        "id": "9li2H65LuDrh"
      },
      "execution_count": null,
      "outputs": []
    },
    {
      "cell_type": "markdown",
      "source": [
        "## Tabela creators"
      ],
      "metadata": {
        "id": "V_bEExXWrJXc"
      }
    },
    {
      "cell_type": "code",
      "source": [
        "def fetch_and_save_creators():\n",
        "  base_url = \"https://gateway.marvel.com/v1/public/creators\"\n",
        "  limit = 20\n",
        "  offset = 0\n",
        "  creatorsArray = []\n",
        "  count = 0\n",
        "\n",
        "  # Conexão com o banco de dados\n",
        "  conn = sqlite3.connect('marvel.db')\n",
        "  cursor = conn.cursor()\n",
        "\n",
        "  # Tabela de creators\n",
        "  cursor.execute(\"\"\"\n",
        "    CREATE TABLE IF NOT EXISTS creators (\n",
        "      id INTEGER PRIMARY KEY,\n",
        "      firstName TEXT,\n",
        "      middleName TEXT,\n",
        "      lastName TEXT,\n",
        "      suffix TEXT,\n",
        "      fullName TEXT,\n",
        "      modified TEXT\n",
        "    )\n",
        "  \"\"\")\n",
        "\n",
        "  print(\"Iniciando coleta de creators...\")\n",
        "\n",
        "  while True:\n",
        "    params = get_auth_params()\n",
        "    params[\"limit\"] = limit\n",
        "    params[\"offset\"] = offset\n",
        "\n",
        "    try:\n",
        "      response = requests.get(base_url, params=params)\n",
        "      response.raise_for_status()\n",
        "\n",
        "      json_data = response.json()\n",
        "\n",
        "      if \"data\" not in json_data:\n",
        "        raise ValueError(\"Estrutura 'data' ausente na resposta.\")\n",
        "\n",
        "      data = json_data[\"data\"]\n",
        "      results = data[\"results\"]\n",
        "\n",
        "      if not results:\n",
        "        print(\"Fim dos resultados.\")\n",
        "        break\n",
        "\n",
        "      print(f\"Recebidos {len(results)} creators (offset {offset})\")\n",
        "\n",
        "      df = pd.json_normalize(results)\n",
        "      if os.path.exists('creators.csv'):\n",
        "        df.to_csv('creators.csv', mode='a', index=False, header=False)\n",
        "      else:\n",
        "        df.to_csv('creators.csv', index=False)\n",
        "\n",
        "      for creator in results:\n",
        "        cursor.execute(\"\"\"\n",
        "          INSERT OR IGNORE INTO creators (\n",
        "            id, firstName, middleName, lastName, suffix, fullName, modified\n",
        "          ) VALUES (?, ?, ?, ?, ?, ?, ?)\n",
        "        \"\"\", (\n",
        "          creator.get(\"id\"),\n",
        "          creator.get(\"firstName\"),\n",
        "          creator.get(\"middleName\"),\n",
        "          creator.get(\"lastName\"),\n",
        "          creator.get(\"suffix\"),\n",
        "          creator.get(\"fullName\"),\n",
        "          creator.get(\"modified\")\n",
        "        ))\n",
        "\n",
        "      conn.commit()\n",
        "\n",
        "      creatorsArray.extend(results)\n",
        "      count += len(results)\n",
        "\n",
        "    except Exception as e:\n",
        "      print(f\"Erro no offset {offset}: {e}. Pulando para o próximo...\")\n",
        "\n",
        "    offset += limit\n",
        "\n",
        "    time.sleep(1)  # evita sobrecarregar a API\n",
        "\n",
        "\n",
        "  df = pd.DataFrame(creatorsArray)\n",
        "  df.to_csv('creators.csv')\n",
        "  conn.close()\n",
        "  print(f\"Finalizado: {count} creators salvos no banco e em CSV.\")"
      ],
      "metadata": {
        "id": "zT3cL_QvvAmI"
      },
      "execution_count": null,
      "outputs": []
    },
    {
      "cell_type": "code",
      "source": [
        "fetch_and_save_creators()"
      ],
      "metadata": {
        "id": "ManuwEXIvB3Q"
      },
      "execution_count": null,
      "outputs": []
    },
    {
      "cell_type": "code",
      "source": [
        "conn = sqlite3.connect(\"marvel.db\")\n",
        "cursor = conn.cursor()\n",
        "\n",
        "cursor.execute(\"SELECT name FROM sqlite_master WHERE type='table';\")\n",
        "tabelas = cursor.fetchall()\n",
        "\n",
        "for tabela in tabelas:\n",
        "    print(tabela[0])\n",
        "\n",
        "conn.close()\n"
      ],
      "metadata": {
        "id": "Q-oig-iJKYh6"
      },
      "execution_count": null,
      "outputs": []
    },
    {
      "cell_type": "markdown",
      "source": [
        "## Insights"
      ],
      "metadata": {
        "id": "SWbiEfAtrPx9"
      }
    },
    {
      "cell_type": "code",
      "source": [
        "conn = sqlite3.connect('marvel.db')\n",
        "cursor = conn.cursor()\n",
        "cursor.execute('select * from comics')\n",
        "charr = cursor.fetchall()\n",
        "df_char = pd.DataFrame(charr, columns=['comic_id','title','page_count','variant_count'])\n",
        "df_char"
      ],
      "metadata": {
        "id": "pgAqXAwVXJB6"
      },
      "execution_count": null,
      "outputs": []
    },
    {
      "cell_type": "code",
      "source": [
        "conn = sqlite3.connect('marvel.db')\n",
        "cursor = conn.cursor()\n",
        "cursor.execute('select * from comic_prices')\n",
        "charr = cursor.fetchall()\n",
        "df_char = pd.DataFrame(charr, columns=['comic_id', 'price_type', 'price_valor'])\n",
        "df_char"
      ],
      "metadata": {
        "id": "hNW9083-XHjV"
      },
      "execution_count": null,
      "outputs": []
    },
    {
      "cell_type": "code",
      "source": [
        "conn = sqlite3.connect('marvel.db')\n",
        "cursor = conn.cursor()\n",
        "cursor.execute('select * from character_comics')\n",
        "charr = cursor.fetchall()\n",
        "df_char = pd.DataFrame(charr, columns=['character_id', 'comic_id'])\n",
        "df_char"
      ],
      "metadata": {
        "id": "1_20fZYRXHS-"
      },
      "execution_count": null,
      "outputs": []
    },
    {
      "cell_type": "code",
      "source": [
        "conn = sqlite3.connect('marvel.db')\n",
        "cursor = conn.cursor()\n",
        "cursor.execute('select * from characters')\n",
        "charr = cursor.fetchall()\n",
        "df_char = pd.DataFrame(charr, columns=['id', 'name', 'description', 'modified', 'comics_available'])\n",
        "df_char"
      ],
      "metadata": {
        "id": "7ZJ8CpXgd73C"
      },
      "execution_count": null,
      "outputs": []
    },
    {
      "cell_type": "code",
      "source": [
        "#selects\n",
        "df_char = pd.read_sql('SELECT * FROM characters', con=conn)\n",
        "df_char_comics = pd.read_sql('SELECT * FROM character_comics', con=conn)\n",
        "df_comic_prices = pd.read_sql('SELECT * FROM comic_prices', con=conn)\n",
        "#merge = join\n",
        "df_merge = pd.merge(df_char_comics, df_comic_prices, on='comic_id', how='inner')\n",
        "df_total = df_merge.groupby('character_id')['price'].sum().reset_index()\n",
        "df_total.columns = ['character_id', 'total_price']\n",
        "#Merge dftotal(char_comics & comic_prices)\n",
        "df_total = pd.merge(df_total, df_char[['id', 'name']], left_on='character_id', right_on='id', how='left')\n",
        "df_top = df_total.sort_values('total_price', ascending=False).head(10)\n",
        "\n",
        "fig = px.bar(\n",
        "    df_top,\n",
        "    x='total_price',\n",
        "    y='name',\n",
        "    orientation='h',\n",
        "    text='total_price',\n",
        "    labels={'name': 'Personagem', 'total_price': 'Valor Total dos Quadrinhos (USD)'},\n",
        "    title='Top 10 Personagens com Maior Valor Agregado em Quadrinhos'\n",
        ")\n",
        "fig.update_layout(\n",
        "    yaxis={'categoryorder': 'total ascending'},\n",
        "    xaxis_title='Valor Total (USD)',\n",
        "    yaxis_title='Personagem',\n",
        "    plot_bgcolor='rgba(0,0,0,0)',\n",
        "    hoverlabel=dict(bgcolor=\"white\", font_size=14),\n",
        ")\n",
        "fig.update_traces(\n",
        "    hovertemplate='<b>%{y}</b><br>Total: $%{x:.2f}',\n",
        "    marker_color='darkred',\n",
        "    texttemplate='$%{x:.2f}',\n",
        "    textposition='outside'\n",
        ")\n",
        "\n",
        "fig.show()\n"
      ],
      "metadata": {
        "id": "YI-fm3xEaWDc"
      },
      "execution_count": null,
      "outputs": []
    },
    {
      "cell_type": "code",
      "source": [
        "df_char = pd.read_sql('SELECT * FROM characters', con=conn)\n",
        "df_top = df_char.sort_values('comics_available',ascending=False).head(10)\n",
        "fig = px.bar(\n",
        "    df_top,\n",
        "    x='comics_available',\n",
        "    y='name',\n",
        "    orientation='h',\n",
        "    text='comics_available',\n",
        "    labels={'name': 'Personagem', 'comics_available': 'Total dos Quadrinhos'},\n",
        "    title='Top 10 Personagens com Mais Quadrinhos'\n",
        ")\n",
        "fig.update_layout(\n",
        "    yaxis={'categoryorder': 'total ascending'},\n",
        "    xaxis_title='Valor Total (USD)',\n",
        "    yaxis_title='Personagem',\n",
        "    plot_bgcolor='rgba(0,0,0,0)',\n",
        "    hoverlabel=dict(bgcolor=\"white\", font_size=14),\n",
        ")\n",
        "fig.update_traces(\n",
        "    hovertemplate='<b>%{y}</b><br>Total: %{x:.2f}',\n",
        "    marker_color='darkred',\n",
        "    texttemplate='%{x:.2f}',\n",
        "    textposition='outside'\n",
        ")\n",
        "\n",
        "fig.show()\n"
      ],
      "metadata": {
        "id": "8rOV3eLViHiz"
      },
      "execution_count": null,
      "outputs": []
    },
    {
      "cell_type": "code",
      "source": [
        "df_char['comics_available'] = pd.to_numeric(df_char['comics_available'], errors='coerce')\n",
        "df_counts = df_char['comics_available'].value_counts().sort_index()\n",
        "\n",
        "plt.figure(figsize=(10, 6))\n",
        "plt.scatter(df_counts.index, df_counts.values, color='green', edgecolor='yellow')\n",
        "plt.title('Distribuição de Participações em Quadrinhos por Personagem')\n",
        "plt.xlabel('Número de Quadrinhos (comics_available)')\n",
        "plt.ylabel('Número de Personagens')\n",
        "\n",
        "step = 500\n",
        "x_max = df_counts.index.max()\n",
        "plt.xticks(range(0, int(x_max)+1, step))\n",
        "\n",
        "plt.grid(axis='y', linestyle='--', alpha=0.5)\n",
        "plt.tight_layout()\n",
        "plt.show()"
      ],
      "metadata": {
        "id": "CUfkISa-vGBk"
      },
      "execution_count": null,
      "outputs": []
    },
    {
      "cell_type": "code",
      "source": [
        "df_char['comics_available'] = pd.to_numeric(df_char['comics_available'], errors='coerce')\n",
        "df_char['modified'] = pd.to_datetime(df_char['modified'], errors='coerce')\n",
        "df_plot = df_char.dropna(subset=['comics_available', 'modified', 'name']).copy()\n",
        "\n",
        "bins = [0, 10, 50, 100, 500, 1000, 2000, 3000, 4000,float('inf')]\n",
        "labels = ['0–10', '11–50', '51–100', '101–500', '501-1000','1001-2000','2001-3000','3001-4000','4000+']\n",
        "df_plot['faixa_comics'] = pd.cut(df_plot['comics_available'], bins=bins, labels=labels, include_lowest=True)\n",
        "\n",
        "df_plot['ano_mod'] = df_plot['modified'].dt.year.astype(str)\n",
        "\n",
        "fig = px.scatter(\n",
        "    df_plot,\n",
        "    x='comics_available',\n",
        "    y='modified',\n",
        "    color='faixa_comics',\n",
        "    hover_name='name',\n",
        "    labels={\n",
        "        'comics_available': 'Número de Quadrinhos',\n",
        "        'modified': 'Data de Modificação',\n",
        "        'faixa_comics': 'Faixa de Participações'\n",
        "    },\n",
        "    title='Participações em Quadrinhos vs. Última Modificação (por Personagem)',\n",
        "    category_orders={\"faixa_comics\": labels}\n",
        ")\n",
        "fig.update_traces(marker=dict(size=7, line=dict(width=1, color='black')))\n",
        "fig.update_layout(width=1000, height=600)\n",
        "\n",
        "anos_unicos = sorted(df_plot['ano_mod'].unique())\n",
        "\n",
        "\n",
        "fig.show()\n"
      ],
      "metadata": {
        "id": "Cumu3hBAQxio"
      },
      "execution_count": null,
      "outputs": []
    },
    {
      "cell_type": "code",
      "source": [
        "df_char['comic_available'] = pd.to_numeric(df_char['comic_available'], errors='coerce')\n",
        "df_char['modified'] = pd.to_datetime(df_char['modified'], errors='coerce')\n",
        "df_plot = df_char.dropna(subset=['comic_available', 'modified', 'name']).copy()\n",
        "\n",
        "# As cores estão aqui!!!!\n",
        "bins = [0, 10, 50, 100, 500, 1000, 2000, 3000, 4000,float('inf')]\n",
        "labels = ['0–10', '11–50', '51–100', '101–500', '501-1000','1001-2000','2001-3000','3001-4000','4000+']\n",
        "cores = {\n",
        "    '0–10': 'lightgray',\n",
        "    '11–50': 'lightskyblue',\n",
        "    '51–100': 'dodgerblue',\n",
        "    '101–500': 'seagreen',\n",
        "    '501-1000': 'crimson',\n",
        "    '1001-2000':'indigo',\n",
        "    '2001-3000':'gold',\n",
        "    '3001-4000':'darkturquoise',\n",
        "    '4000+':'darkblue'\n",
        "}\n",
        "df_plot['faixa_comics'] = pd.cut(df_plot['comic_available'], bins=bins, labels=labels, include_lowest=True)\n",
        "df_plot['cor_faixa'] = df_plot['faixa_comics'].map(cores)\n",
        "\n",
        "\n",
        "df_plot['ano_mod'] = df_plot['modified'].dt.year\n",
        "anos_unicos = sorted(df_plot['ano_mod'].dropna().unique())\n",
        "\n",
        "\n",
        "fig = go.Figure()\n",
        "\n",
        "for ano in anos_unicos:\n",
        "    df_ano = df_plot[df_plot['ano_mod'] == ano]\n",
        "    fig.add_trace(go.Scatter(\n",
        "        x=df_ano['comic_available'],\n",
        "        y=df_ano['modified'],\n",
        "        mode='markers',\n",
        "        marker=dict(size=7, color=df_ano['cor_faixa'], line=dict(width=1, color='black')),\n",
        "        name=str(ano),\n",
        "        text=df_ano['name'],\n",
        "        hovertemplate='<b>%{text}</b><br>Quadrinhos: %{x}<br>Modificado: %{y|%Y-%m-%d}<extra></extra>',\n",
        "        visible=True if ano == anos_unicos[0] else False\n",
        "    ))\n",
        "\n",
        "buttons = [\n",
        "    dict(\n",
        "        label=\"Todos os anos\",\n",
        "        method=\"update\",\n",
        "        args=[{\"visible\": [True] * len(anos_unicos)},\n",
        "              {\"title\": \"Todos os Anos\"}]\n",
        "    )\n",
        "]\n",
        "\n",
        "for i, ano in enumerate(anos_unicos):\n",
        "    vis = [False] * len(anos_unicos)\n",
        "    vis[i] = True\n",
        "    buttons.append(\n",
        "        dict(\n",
        "            label=str(ano),\n",
        "            method=\"update\",\n",
        "            args=[{\"visible\": vis},\n",
        "                  {\"title\": f\"Personagens modificados em {ano}\"}]\n",
        "        )\n",
        "    )\n",
        "\n",
        "fig.update_layout(\n",
        "    title=\"Participações em Quadrinhos vs. Data de Modificação (com Filtro por Ano)\",\n",
        "    xaxis_title=\"Número de Quadrinhos\",\n",
        "    yaxis_title=\"Data de Modificação\",\n",
        "    width=1000,\n",
        "    height=600,\n",
        "    updatemenus=[dict(\n",
        "        type=\"dropdown\",\n",
        "        direction=\"down\",\n",
        "        buttons=buttons,\n",
        "        x=1.1,\n",
        "        xanchor=\"left\",\n",
        "        y=1.15,\n",
        "        yanchor=\"top\"\n",
        "    )],\n",
        "    legend_title_text=\"Faixas de Quadrinhos\"\n",
        ")\n",
        "fig.show()\n"
      ],
      "metadata": {
        "id": "29KiBxMWSd6r"
      },
      "execution_count": null,
      "outputs": []
    },
    {
      "cell_type": "code",
      "source": [
        "df_char['comic_available'] = pd.to_numeric(df_char['comic_available'], errors='coerce')\n",
        "df_char['modified'] = pd.to_datetime(df_char['modified'], errors='coerce')\n",
        "\n",
        "df_plot = df_char.dropna(subset=['comic_available', 'modified', 'name'])\n",
        "\n",
        "fig = px.scatter(\n",
        "    df_plot,\n",
        "    x='comic_available',\n",
        "    y='modified',\n",
        "    hover_name='name',\n",
        "    labels={\n",
        "        'comic_available': 'Número de Quadrinhos',\n",
        "        'modified': 'Última Modificação'\n",
        "    },\n",
        "    title='Participações em Quadrinhos vs. Última Modificação (por Personagem)'\n",
        ")\n",
        "\n",
        "fig.update_traces(marker=dict(color='salmon', size=7, line=dict(width=1, color='black')))\n",
        "fig.update_layout(width=950, height=550)\n",
        "fig.show()"
      ],
      "metadata": {
        "id": "YoKExRDRPl3U"
      },
      "execution_count": null,
      "outputs": []
    },
    {
      "cell_type": "code",
      "source": [
        "df_char['comic_available'] = pd.to_numeric(df_char['comic_available'], errors='coerce')\n",
        "df_char['modified'] = pd.to_datetime(df_char['modified'], errors='coerce')\n",
        "df_plot = df_char.dropna(subset=['comic_available', 'modified', 'name']).copy()\n",
        "\n",
        "bins = [0, 10, 50, 100, 500, 1000, 2000, 3000, 4000,float('inf')]\n",
        "labels = ['0–10', '11–50', '51–100', '101–500', '501-1000','1001-2000','2001-3000','3001-4000','4000+']\n",
        "df_plot['faixa_comics'] = pd.cut(df_plot['comic_available'], bins=bins, labels=labels, include_lowest=True)\n",
        "\n",
        "df_plot['ano_mod'] = df_plot['modified'].dt.year.astype(str)\n",
        "\n",
        "fig = px.scatter(\n",
        "    df_plot,\n",
        "    x='comic_available',\n",
        "    y='modified',\n",
        "    color='faixa_comics',\n",
        "    hover_name='name',\n",
        "    labels={\n",
        "        'comic_available': 'Número de Quadrinhos',\n",
        "        'modified': 'Data de Modificação',\n",
        "        'faixa_comics': 'Faixa de Participações'\n",
        "    },\n",
        "    title='Participações em Quadrinhos vs. Última Modificação (por Personagem)',\n",
        "    category_orders={\"faixa_comics\": labels}\n",
        ")\n",
        "fig.update_traces(marker=dict(size=7, line=dict(width=1, color='black')))\n",
        "fig.update_layout(width=1000, height=600)\n",
        "\n",
        "anos_unicos = sorted(df_plot['ano_mod'].unique())\n",
        "\n",
        "fig.update_layout(\n",
        "    updatemenus=[\n",
        "        {\n",
        "            \"buttons\": [\n",
        "                {\"label\": \"Todos os anos\", \"method\": \"restyle\", \"args\": [\"visible\", [True]*len(df_plot)]}\n",
        "            ] + [\n",
        "                {\n",
        "                    \"label\": ano,\n",
        "                    \"method\": \"update\",\n",
        "                    \"args\": [\n",
        "                        {\"visible\": df_plot['ano_mod'] == ano},\n",
        "                        {\"title\": f\"Personagens modificados em {ano}\"}\n",
        "                    ]\n",
        "                }\n",
        "                for ano in anos_unicos\n",
        "            ],\n",
        "            \"direction\": \"down\",\n",
        "            \"showactive\": True,\n",
        "            \"x\": 1.1,\n",
        "            \"xanchor\": \"left\",\n",
        "            \"y\": 1.15,\n",
        "            \"yanchor\": \"top\"\n",
        "        }\n",
        "    ]\n",
        ")\n",
        "\n",
        "fig.show()\n"
      ],
      "metadata": {
        "id": "Cumu3hBAQxio"
      },
      "execution_count": null,
      "outputs": []
    },
    {
      "cell_type": "code",
      "source": [
        "df_char['comic_available'] = pd.to_numeric(df_char['comic_available'], errors='coerce')\n",
        "df_char['modified'] = pd.to_datetime(df_char['modified'], errors='coerce')\n",
        "df_plot = df_char.dropna(subset=['comic_available', 'modified', 'name']).copy()\n",
        "\n",
        "# As cores estão aqui!!!!\n",
        "bins = [0, 10, 50, 100, 500, 1000, 2000, 3000, 4000,float('inf')]\n",
        "labels = ['0–10', '11–50', '51–100', '101–500', '501-1000','1001-2000','2001-3000','3001-4000','4000+']\n",
        "cores = {\n",
        "    '0–10': 'lightgray',\n",
        "    '11–50': 'lightskyblue',\n",
        "    '51–100': 'dodgerblue',\n",
        "    '101–500': 'seagreen',\n",
        "    '501-1000': 'crimson',\n",
        "    '1001-2000':'indigo',\n",
        "    '2001-3000':'gold',\n",
        "    '3001-4000':'darkturquoise',\n",
        "    '4000+':'darkblue'\n",
        "}\n",
        "df_plot['faixa_comics'] = pd.cut(df_plot['comic_available'], bins=bins, labels=labels, include_lowest=True)\n",
        "df_plot['cor_faixa'] = df_plot['faixa_comics'].map(cores)\n",
        "\n",
        "\n",
        "df_plot['ano_mod'] = df_plot['modified'].dt.year\n",
        "anos_unicos = sorted(df_plot['ano_mod'].dropna().unique())\n",
        "\n",
        "\n",
        "fig = go.Figure()\n",
        "\n",
        "for ano in anos_unicos:\n",
        "    df_ano = df_plot[df_plot['ano_mod'] == ano]\n",
        "    fig.add_trace(go.Scatter(\n",
        "        x=df_ano['comic_available'],\n",
        "        y=df_ano['modified'],\n",
        "        mode='markers',\n",
        "        marker=dict(size=7, color=df_ano['cor_faixa'], line=dict(width=1, color='black')),\n",
        "        name=str(ano),\n",
        "        text=df_ano['name'],\n",
        "        hovertemplate='<b>%{text}</b><br>Quadrinhos: %{x}<br>Modificado: %{y|%Y-%m-%d}<extra></extra>',\n",
        "        visible=True if ano == anos_unicos[0] else False\n",
        "    ))\n",
        "\n",
        "buttons = [\n",
        "    dict(\n",
        "        label=\"Todos os anos\",\n",
        "        method=\"update\",\n",
        "        args=[{\"visible\": [True] * len(anos_unicos)},\n",
        "              {\"title\": \"Todos os Anos\"}]\n",
        "    )\n",
        "]\n",
        "\n",
        "for i, ano in enumerate(anos_unicos):\n",
        "    vis = [False] * len(anos_unicos)\n",
        "    vis[i] = True\n",
        "    buttons.append(\n",
        "        dict(\n",
        "            label=str(ano),\n",
        "            #color=cores,\n",
        "            method=\"update\",\n",
        "            args=[{\"visible\": vis},\n",
        "                  {\"title\": f\"Personagens modificados em {ano}\"}]\n",
        "        )\n",
        "    )\n",
        "\n",
        "fig.update_layout(\n",
        "    title=\"Participações em Quadrinhos vs. Data de Modificação (com Filtro por Ano)\",\n",
        "    xaxis_title=\"Número de Quadrinhos\",\n",
        "    yaxis_title=\"Data de Modificação\",\n",
        "    width=1000,\n",
        "    height=600,\n",
        "    updatemenus=[dict(\n",
        "        type=\"dropdown\",\n",
        "        direction=\"down\",\n",
        "        buttons=buttons,\n",
        "        x=1.1,\n",
        "        xanchor=\"left\",\n",
        "        y=1.15,\n",
        "        yanchor=\"top\"\n",
        "    )],\n",
        "    legend_title_text=\"Faixas de Quadrinhos\"\n",
        ")\n",
        "fig.show()\n"
      ],
      "metadata": {
        "id": "29KiBxMWSd6r"
      },
      "execution_count": null,
      "outputs": []
    }
  ]
}