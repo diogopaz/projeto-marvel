{
  "nbformat": 4,
  "nbformat_minor": 0,
  "metadata": {
    "colab": {
      "provenance": [],
      "include_colab_link": true
    },
    "kernelspec": {
      "name": "python3",
      "display_name": "Python 3"
    },
    "language_info": {
      "name": "python"
    }
  },
  "cells": [
    {
      "cell_type": "markdown",
      "metadata": {
        "id": "view-in-github",
        "colab_type": "text"
      },
      "source": [
        "<a href=\"https://colab.research.google.com/github/diogopaz/projeto-marvel/blob/DocumentationBrch/projeto_marvel.ipynb\" target=\"_parent\"><img src=\"https://colab.research.google.com/assets/colab-badge.svg\" alt=\"Open In Colab\"/></a>"
      ]
    },
    {
      "cell_type": "markdown",
      "source": [
        "# Importando bibliotecas necessárias"
      ],
      "metadata": {
        "id": "vdNqYaOZWaHi"
      }
    },
    {
      "cell_type": "code",
      "execution_count": null,
      "metadata": {
        "id": "tMDmYgk_y8wZ"
      },
      "outputs": [],
      "source": [
        "!pip install dotenv --quiet\n",
        "!pip install plotly --quiet"
      ]
    },
    {
      "cell_type": "code",
      "source": [
        "import requests\n",
        "import hashlib\n",
        "import time\n",
        "import os\n",
        "import pandas as pd\n",
        "from dotenv import load_dotenv\n",
        "import sqlite3\n",
        "from google.colab import userdata\n",
        "import matplotlib.pyplot as plt\n",
        "import plotly.express as px\n",
        "import plotly.graph_objects as go\n",
        "import seaborn as sns\n",
        "import numpy as np\n",
        "from plotly.subplots import make_subplots"
      ],
      "metadata": {
        "id": "dpKgBGHWWmPs"
      },
      "execution_count": null,
      "outputs": []
    },
    {
      "cell_type": "markdown",
      "source": [
        "# Carregando variáveis de ambiente\n"
      ],
      "metadata": {
        "id": "r_cOQZZ2XEZy"
      }
    },
    {
      "cell_type": "markdown",
      "source": [
        "###1° Modo UserData\n",
        "Utilizando o \"<i/>Secrets</i>\" do próprio <i/>Google Colab</i>, é possível utilizar senhas que são visíveis unicamente para o úsuario\n",
        "####<b/>Secrets:</b>\n",
        "O <i/>Secrets</i> do Google Colab é um recurso utilizado para armazenar credenciais sensíveis (como chaves de API e tokens de autenticação) de forma segura. Ele permite que essas informações sejam usadas no notebook sem serem expostas diretamente no código. Os dados são criptografados e acessíveis apenas pelo usuário. Você pode adicioná-los por meio do menu “<i/>Secrets</i>” no painel lateral. É ideal para manter a privacidade em notebooks compartilhados.\n",
        "<br/>\n",
        "###Como usar:\n",
        "Basta clicar no ícone de chave que aparece no lado esquerdo da interface do Colab.<br/>\n",
        "Os nomes das variáveis devem ser exatamente: \"<b/>MARVEL_PUBLIC_KEY</b>\" e \"<b/>MARVEL_PRIVATE_KEY</b>\" (sem aspas), cada uma com sua respectiva chave pública e privada."
      ],
      "metadata": {
        "id": "9q4pzTu0obdH"
      }
    },
    {
      "cell_type": "code",
      "source": [
        "public_key = userdata.get('MARVEL_PUBLIC_KEY')\n",
        "private_key = userdata.get('MARVEL_PRIVATE_KEY')"
      ],
      "metadata": {
        "id": "GiFPSe23XIIp"
      },
      "execution_count": null,
      "outputs": []
    },
    {
      "cell_type": "markdown",
      "source": [
        "###2° Modo variáveis de ambiente\n",
        "Neste modo, serão utilizadas variáveis de ambiente de execução por meio da biblioteca `dotenv`. <br/>\n",
        "####<b/>Dotenv:</b>\n",
        "O <b/>Dotenv</b> é uma biblioteca sem dependências externas que carrega variáveis de ambiente de um arquivo `.env` para o process.env que é o ambiente de execução do <b/>Python</b>.<br/>\n",
        "####<b/>Como usar:</b>\n",
        "Crie um arquivo chamado .env com o seguinte conteúdo:\n",
        "<br/>\n",
        "```terminal\n",
        "MARVEL_PUBLIC_KEY=your_public_key_here\n",
        "MARVEL_PRIVATE_KEY=your_private_key_here\n",
        "```\n",
        "Após configurar as chaves no arquivo, já é possível executar a célula no notebook normalmente."
      ],
      "metadata": {
        "id": "9T8ZYyTooX9I"
      }
    },
    {
      "cell_type": "code",
      "source": [
        "load_dotenv(dotenv_path='/content/.env')\n",
        "public_key = os.getenv('MARVEL_PUBLIC_KEY')\n",
        "private_key = os.getenv('MARVEL_PRIVATE_KEY')"
      ],
      "metadata": {
        "id": "9SIJ4qNen8cB"
      },
      "execution_count": null,
      "outputs": []
    },
    {
      "cell_type": "markdown",
      "source": [
        "# Montando os parâmetros para realizar a requisição"
      ],
      "metadata": {
        "id": "mUmpTS3_X3-a"
      }
    },
    {
      "cell_type": "code",
      "source": [
        "def get_auth_params():\n",
        "    ts = str(time.time())\n",
        "    to_hash = ts + private_key + public_key\n",
        "    hash_md5 = hashlib.md5(to_hash.encode()).hexdigest()\n",
        "    return {\n",
        "        'ts': ts,\n",
        "        'apikey': public_key,\n",
        "        'hash': hash_md5\n",
        "    }"
      ],
      "metadata": {
        "id": "KA7kXDAwX83L"
      },
      "execution_count": null,
      "outputs": []
    },
    {
      "cell_type": "code",
      "source": [
        "# Função para testes rápidos\n",
        "def req(endpoint, limit = 100, offset = 0):\n",
        "  params = get_auth_params()\n",
        "  params.update({\n",
        "      'limit': limit,\n",
        "      'offset': offset\n",
        "  })\n",
        "  response = requests.get(f'https://gateway.marvel.com/v1/public/{endpoint}', params=params)\n",
        "  data = response.json()\n",
        "  return data"
      ],
      "metadata": {
        "id": "Q9dLNowzHnex"
      },
      "execution_count": null,
      "outputs": []
    },
    {
      "cell_type": "markdown",
      "source": [
        "# Criação da tabelas no sqlite"
      ],
      "metadata": {
        "id": "XvPU-kY-icEK"
      }
    },
    {
      "cell_type": "markdown",
      "source": [
        "## Tabela characters"
      ],
      "metadata": {
        "id": "2FbUXJ7sQUdT"
      }
    },
    {
      "cell_type": "code",
      "source": [
        "# Salvando o personagem no banco\n",
        "def save_character(char):\n",
        "    comics_available = char.get('comics', {}).get('available', 0)\n",
        "\n",
        "    conn = sqlite3.connect('marvel.db')\n",
        "    cursor = conn.cursor()\n",
        "\n",
        "    cursor.execute('''\n",
        "    INSERT OR REPLACE INTO characters (id, name, description, modified, comics_available)\n",
        "    VALUES (?, ?, ?, ?, ?)\n",
        "    ''', (\n",
        "        char['id'],\n",
        "        char['name'],\n",
        "        char.get('description', ''),\n",
        "        char.get('modified', ''),\n",
        "        comics_available\n",
        "    ))\n",
        "\n",
        "    conn.commit()\n",
        "\n",
        "# Baixando e salvando todos os personagens\n",
        "def fetch_and_save_characters():\n",
        "    conn = sqlite3.connect('marvel.db')\n",
        "    cursor = conn.cursor()\n",
        "\n",
        "    # Criando tabela characters\n",
        "    cursor.execute('''\n",
        "      CREATE TABLE IF NOT EXISTS characters (\n",
        "        id INTEGER PRIMARY KEY,\n",
        "        name TEXT,\n",
        "        description TEXT,\n",
        "        modified TEXT,\n",
        "        comics_available INTEGER\n",
        "      )''')\n",
        "\n",
        "    limit = 100\n",
        "    offset = 0\n",
        "    total = 1\n",
        "    count = 0\n",
        "    charactersArray = []\n",
        "\n",
        "    while offset < total:\n",
        "        print(f'Buscando personagens... offset={offset}')\n",
        "        params = get_auth_params()\n",
        "        params.update({\n",
        "            'limit': limit,\n",
        "            'offset': offset\n",
        "        })\n",
        "\n",
        "        response = requests.get('https://gateway.marvel.com/v1/public/characters', params=params)\n",
        "\n",
        "        if response.status_code != 200:\n",
        "            print(f'Erro na requisição: {response.status_code}')\n",
        "            break\n",
        "\n",
        "        data = response.json()['data']\n",
        "        total = data['total']\n",
        "        results = data['results']\n",
        "\n",
        "        for char in results:\n",
        "            save_character(char)\n",
        "            count += 1\n",
        "\n",
        "        charactersArray.extend(results)\n",
        "\n",
        "\n",
        "        offset += limit\n",
        "        time.sleep(0.1)\n",
        "\n",
        "    df = pd.DataFrame(charactersArray)\n",
        "    df.to_csv('characters.csv')\n",
        "    conn.commit()\n",
        "    conn.close()\n",
        "    print(f'Sucesso! {count} personagens salvos no banco')"
      ],
      "metadata": {
        "id": "_QVqf4g547hg"
      },
      "execution_count": null,
      "outputs": []
    },
    {
      "cell_type": "code",
      "source": [
        "# >>> Executa\n",
        "fetch_and_save_characters()"
      ],
      "metadata": {
        "id": "eg_V0mZ_OMO0"
      },
      "execution_count": null,
      "outputs": []
    },
    {
      "cell_type": "markdown",
      "source": [
        "## Tabela comics"
      ],
      "metadata": {
        "id": "DXzcnGE4Pss8"
      }
    },
    {
      "cell_type": "code",
      "source": [
        "def save_comic(comic):\n",
        "    comic_id = comic.get('id')\n",
        "    if not comic_id or 'title' not in comic:\n",
        "        print(f\"Comic ignorada por dados incompletos: {comic_id}\")\n",
        "        return\n",
        "\n",
        "    title = comic['title']\n",
        "    page_count = comic.get('pageCount', 0)\n",
        "    variant_count = len(comic.get('variants', []))\n",
        "\n",
        "    conn = sqlite3.connect('marvel.db')\n",
        "    cursor = conn.cursor()\n",
        "\n",
        "    # Salva a comic\n",
        "    cursor.execute('''\n",
        "    INSERT OR REPLACE INTO comics (id, title, page_count, variant_count)\n",
        "    VALUES (?, ?, ?, ?)\n",
        "    ''', (comic_id, title, page_count, variant_count))\n",
        "\n",
        "    # Salva os preços\n",
        "    for price in comic.get('prices', []):\n",
        "        cursor.execute('''\n",
        "        INSERT OR REPLACE INTO comic_prices (comic_id, type, price)\n",
        "        VALUES (?, ?, ?)\n",
        "        ''', (comic_id, price.get('type', ''), price.get('price', 0.0)))\n",
        "\n",
        "    # Salva os creators associados\n",
        "    for creator in comic.get('creators', {}).get('items', []):\n",
        "        try:\n",
        "            resource_uri = creator.get('resourceURI', '')\n",
        "            creator_id = int(resource_uri.strip().split('/')[-1])\n",
        "            role = creator.get('role', '')\n",
        "            cursor.execute('''\n",
        "            INSERT OR IGNORE INTO comic_creators (comic_id, creator_id, role)\n",
        "            VALUES (?, ?, ?)\n",
        "            ''', (comic_id, creator_id, role))\n",
        "        except (IndexError, ValueError):\n",
        "            print(f'Erro ao extrair creator_id de {resource_uri}')\n",
        "\n",
        "    conn.commit()\n",
        "\n",
        "def fetch_and_save_comics():\n",
        "    limit = 100\n",
        "    offset = 0\n",
        "    total = 1  # valor inicial fictício\n",
        "    comics_url = \"https://gateway.marvel.com/v1/public/comics\"  # ou use variável se já tiver `url_comics`\n",
        "    count = 0\n",
        "    comicsArray = []\n",
        "\n",
        "    conn = sqlite3.connect('marvel.db')\n",
        "    cursor = conn.cursor()\n",
        "\n",
        "    # Tabela de comics\n",
        "    cursor.execute('''\n",
        "      CREATE TABLE IF NOT EXISTS comics (\n",
        "          id INTEGER PRIMARY KEY,\n",
        "          title TEXT,\n",
        "          page_count INTEGER,\n",
        "          variant_count INTEGER\n",
        "      )\n",
        "      ''')\n",
        "\n",
        "    # Relacionamento comic -> creator\n",
        "    cursor.execute('''\n",
        "      CREATE TABLE IF NOT EXISTS comic_creators (\n",
        "        comic_id INTEGER,\n",
        "        creator_id INTEGER,\n",
        "        role TEXT,\n",
        "        PRIMARY KEY (comic_id, creator_id, role)\n",
        "    )\n",
        "    ''')\n",
        "\n",
        "    # Preços das comics\n",
        "    cursor.execute('''\n",
        "      CREATE TABLE IF NOT EXISTS comic_prices (\n",
        "      comic_id INTEGER,\n",
        "      type TEXT,\n",
        "      price REAL,\n",
        "      PRIMARY KEY (comic_id, type)\n",
        "    )\n",
        "    ''')\n",
        "\n",
        "    while offset < total:\n",
        "        print(f'Buscando comics... offset={offset}')\n",
        "        params = get_auth_params()\n",
        "        params.update({\n",
        "            'limit': limit,\n",
        "            'offset': offset\n",
        "        })\n",
        "\n",
        "        response = requests.get(comics_url, params=params)\n",
        "        if response.status_code != 200:\n",
        "            print(f'Erro na requisição: {response.status_code}: {response.text}')\n",
        "            break\n",
        "\n",
        "        data = response.json()['data']\n",
        "        total = data['total']\n",
        "        results = data['results']\n",
        "\n",
        "        for comic in results:\n",
        "            save_comic(comic)\n",
        "            count += 1\n",
        "\n",
        "        comicsArray.extend(results)\n",
        "\n",
        "        offset += limit\n",
        "        time.sleep(0.1)\n",
        "\n",
        "    df = pd.DataFrame(comicsArray)\n",
        "    df.to_csv('comics.csv')\n",
        "    conn.commit()\n",
        "    conn.close()\n",
        "\n",
        "    print(f'Sucesso! {count} comics salvas no banco')\n"
      ],
      "metadata": {
        "id": "njRmeqrKknCj"
      },
      "execution_count": null,
      "outputs": []
    },
    {
      "cell_type": "code",
      "source": [
        "fetch_and_save_comics()"
      ],
      "metadata": {
        "id": "bEy-0OBskpWo"
      },
      "execution_count": null,
      "outputs": []
    },
    {
      "cell_type": "code",
      "source": [
        "requests.get(\"https://gateway.marvel.com/v1/public/comics\", get_auth_params()).json()"
      ],
      "metadata": {
        "id": "PESpsb7S8DXT"
      },
      "execution_count": null,
      "outputs": []
    },
    {
      "cell_type": "markdown",
      "source": [
        "## Tabela characters comics"
      ],
      "metadata": {
        "id": "H_SZ3pHFrDfO"
      }
    },
    {
      "cell_type": "code",
      "source": [
        "# Buscando todas as comics disponíveis do personagem\n",
        "def get_comics_for_character(character_id):\n",
        "  endpoint = f\"https://gateway.marvel.com/v1/public/characters/{character_id}/comics\"\n",
        "  params = get_auth_params()\n",
        "  params['limit'] = 100\n",
        "  comics = []\n",
        "  offset = 0\n",
        "\n",
        "  while True:\n",
        "    params[\"offset\"] = offset\n",
        "    response = requests.get(endpoint, params=params)\n",
        "    data = response.json()\n",
        "    results = data[\"data\"][\"results\"]\n",
        "    comics.extend([comic[\"id\"] for comic in results])\n",
        "\n",
        "    if len(results) < 100:\n",
        "      break\n",
        "    offset += 100\n",
        "\n",
        "  return comics\n",
        "\n",
        "# Criando tabela para relacionar characters e comics no banco\n",
        "def fetch_and_save_character_comics(character_ids, db_path=\"marvel.db\", csv_path=\"character_comics.csv\"):\n",
        "  conn = sqlite3.connect(db_path)\n",
        "  cursor = conn.cursor()\n",
        "\n",
        "  # Relacionamento de characters com comics\n",
        "  cursor.execute(\"\"\"\n",
        "      CREATE TABLE IF NOT EXISTS character_comics (\n",
        "      character_id INTEGER,\n",
        "      comic_id INTEGER,\n",
        "      PRIMARY KEY (character_id, comic_id)\n",
        "      )\n",
        "  \"\"\")\n",
        "\n",
        "  all_pairs = []\n",
        "\n",
        "  for character_id in character_ids:\n",
        "    try:\n",
        "      print(f\"Buscando comics para o personagem {character_id}...\")\n",
        "      comics = get_comics_for_character(character_id)\n",
        "      pairs = [(character_id, comic_id) for comic_id in comics]\n",
        "      all_pairs.extend(pairs)\n",
        "      print(f\"{len(comics)} comics encontrados para o personagem {character_id}\")\n",
        "    except Exception as e:\n",
        "      print(f\"Erro ao processar o personagem {character_id}: {e}\")\n",
        "\n",
        "  # Salvando em CSV\n",
        "  if all_pairs:\n",
        "    df = pd.DataFrame(all_pairs, columns=[\"character_id\", \"comic_id\"])\n",
        "    if os.path.exists(csv_path):\n",
        "      df.to_csv(csv_path, mode='a', header=False, index=False)\n",
        "    else:\n",
        "      df.to_csv(csv_path, index=False)\n",
        "    print(f\"Dados salvos em {csv_path}\")\n",
        "\n",
        "  # Inserindo no banco de dados\n",
        "  for pair in all_pairs:\n",
        "    cursor.execute(\"\"\"\n",
        "      INSERT OR IGNORE INTO character_comics (character_id, comic_id)\n",
        "      VALUES (?, ?)\n",
        "    \"\"\", pair)\n",
        "\n",
        "  conn.commit()\n",
        "  conn.close()\n",
        "  print(\"Dados armazenados no banco com sucesso.\")"
      ],
      "metadata": {
        "id": "uGReGqjit6SO"
      },
      "execution_count": null,
      "outputs": []
    },
    {
      "cell_type": "code",
      "source": [
        "# Selecionando os 10 personagens com maior número de quadrinhos\n",
        "ids_characters = []\n",
        "conn = sqlite3.connect(\"marvel.db\")\n",
        "cursor = conn.cursor()\n",
        "\n",
        "cursor.execute('''select id\n",
        "                  from characters\n",
        "                  order by comics_available desc\n",
        "                  limit 10;''')\n",
        "characters = cursor.fetchall()\n",
        "conn.close()\n",
        "\n",
        "for id in characters:\n",
        "  ids_characters.extend(id)\n",
        "\n",
        "ids_characters"
      ],
      "metadata": {
        "id": "4nsGQULzaO1v"
      },
      "execution_count": null,
      "outputs": []
    },
    {
      "cell_type": "code",
      "source": [
        "fetch_and_save_character_comics(ids_characters)"
      ],
      "metadata": {
        "id": "9li2H65LuDrh"
      },
      "execution_count": null,
      "outputs": []
    },
    {
      "cell_type": "markdown",
      "source": [
        "## Tabela creators"
      ],
      "metadata": {
        "id": "V_bEExXWrJXc"
      }
    },
    {
      "cell_type": "code",
      "source": [
        "def fetch_and_save_creators():\n",
        "  base_url = \"https://gateway.marvel.com/v1/public/creators\"\n",
        "  limit = 20\n",
        "  offset = 0\n",
        "  creatorsArray = []\n",
        "  count = 0\n",
        "\n",
        "  # Conexão com o banco de dados\n",
        "  conn = sqlite3.connect('marvel.db')\n",
        "  cursor = conn.cursor()\n",
        "\n",
        "  # Tabela de creators\n",
        "  cursor.execute(\"\"\"\n",
        "    CREATE TABLE IF NOT EXISTS creators (\n",
        "      id INTEGER PRIMARY KEY,\n",
        "      firstName TEXT,\n",
        "      middleName TEXT,\n",
        "      lastName TEXT,\n",
        "      suffix TEXT,\n",
        "      fullName TEXT,\n",
        "      modified TEXT\n",
        "    )\n",
        "  \"\"\")\n",
        "\n",
        "  print(\"Iniciando coleta de creators...\")\n",
        "\n",
        "  while True:\n",
        "    params = get_auth_params()\n",
        "    params[\"limit\"] = limit\n",
        "    params[\"offset\"] = offset\n",
        "\n",
        "    try:\n",
        "      response = requests.get(base_url, params=params)\n",
        "      response.raise_for_status()\n",
        "\n",
        "      json_data = response.json()\n",
        "\n",
        "      if \"data\" not in json_data:\n",
        "        raise ValueError(\"Estrutura 'data' ausente na resposta.\")\n",
        "\n",
        "      data = json_data[\"data\"]\n",
        "      results = data[\"results\"]\n",
        "\n",
        "      if not results:\n",
        "        print(\"Fim dos resultados.\")\n",
        "        break\n",
        "\n",
        "      print(f\"Recebidos {len(results)} creators (offset {offset})\")\n",
        "\n",
        "      df = pd.json_normalize(results)\n",
        "      if os.path.exists('creators.csv'):\n",
        "        df.to_csv('creators.csv', mode='a', index=False, header=False)\n",
        "      else:\n",
        "        df.to_csv('creators.csv', index=False)\n",
        "\n",
        "      for creator in results:\n",
        "        cursor.execute(\"\"\"\n",
        "          INSERT OR IGNORE INTO creators (\n",
        "            id, firstName, middleName, lastName, suffix, fullName, modified\n",
        "          ) VALUES (?, ?, ?, ?, ?, ?, ?)\n",
        "        \"\"\", (\n",
        "          creator.get(\"id\"),\n",
        "          creator.get(\"firstName\"),\n",
        "          creator.get(\"middleName\"),\n",
        "          creator.get(\"lastName\"),\n",
        "          creator.get(\"suffix\"),\n",
        "          creator.get(\"fullName\"),\n",
        "          creator.get(\"modified\")\n",
        "        ))\n",
        "\n",
        "      conn.commit()\n",
        "\n",
        "      creatorsArray.extend(results)\n",
        "\n",
        "    except Exception as e:\n",
        "      print(f\"Erro no offset {offset}: {e}. Pulando para o próximo...\")\n",
        "\n",
        "    offset += limit\n",
        "    count += len(results)\n",
        "    time.sleep(1)  # evita sobrecarregar a API\n",
        "\n",
        "\n",
        "  df = pd.DataFrame(creatorsArray)\n",
        "  df.to_csv('creators.csv')\n",
        "  conn.close()\n",
        "  print(f\"Finalizado: {count} creators salvos no banco e em CSV.\")"
      ],
      "metadata": {
        "id": "zT3cL_QvvAmI"
      },
      "execution_count": null,
      "outputs": []
    },
    {
      "cell_type": "code",
      "source": [
        "fetch_and_save_creators()\n",
        "# 5332/6532 salvos com offset de 100 (1200)\n",
        "# 6250/6532 com offset de 20 (282)"
      ],
      "metadata": {
        "id": "ManuwEXIvB3Q"
      },
      "execution_count": null,
      "outputs": []
    },
    {
      "cell_type": "code",
      "source": [
        "conn = sqlite3.connect(\"marvel.db\")\n",
        "cursor = conn.cursor()\n",
        "\n",
        "cursor.execute(\"SELECT name FROM sqlite_master WHERE type='table';\")\n",
        "tabelas = cursor.fetchall()\n",
        "\n",
        "for tabela in tabelas:\n",
        "    print(tabela[0])\n",
        "\n",
        "conn.close()\n"
      ],
      "metadata": {
        "id": "Q-oig-iJKYh6"
      },
      "execution_count": null,
      "outputs": []
    },
    {
      "cell_type": "markdown",
      "source": [
        "# Insights"
      ],
      "metadata": {
        "id": "SWbiEfAtrPx9"
      }
    },
    {
      "cell_type": "markdown",
      "source": [
        "##Insight: 10 Personagens com maior valor agregado\n",
        "Este gráfico mostra os <b/>10 personagens da Marvel que aparecem em quadrinhos com o maior valor total somado</b>. Em outras palavras, ele responde à pergunta: <b/>quais personagens estão associados aos quadrinhos mais caros, considerando todos os títulos em que aparecem?</b>\n",
        "\n",
        "Esse tipo de análise permite identificar os personagens com <b/>maior peso comercial</b> dentro do universo Marvel. Um alto valor agregado pode indicar popularidade, presença em edições raras ou valiosas, ou simplesmente uma alta recorrência em quadrinhos caros. É um insight útil para entender o <b/>impacto financeiro dos personagens no mercado de quadrinhos.</b>"
      ],
      "metadata": {
        "id": "J-BKT_ha3Xqe"
      }
    },
    {
      "cell_type": "code",
      "source": [
        "conn = sqlite3.connect('marvel.db')\n",
        "df_char = pd.read_sql('SELECT * FROM characters', con=conn)\n",
        "df_char_comics = pd.read_sql('SELECT * FROM character_comics', con=conn)\n",
        "df_comic_prices = pd.read_sql('SELECT * FROM comic_prices', con=conn)\n",
        "df_merge = pd.merge(df_char_comics, df_comic_prices, on='comic_id', how='inner') #df_char_comics inner join df_comic_prices on 'comic_id'\n",
        "df_total = df_merge.groupby('character_id')['price'].sum().reset_index()\n",
        "df_total.columns = ['character_id', 'total_price']\n",
        "df_total = pd.merge(df_total, df_char[['id', 'name']], left_on='character_id', right_on='id', how='left') #df_total(char_comicsXcomic_prices) left join df_char on 'character_id'\n",
        "df_top = df_total.sort_values('total_price', ascending=False).head(10)\n",
        "fig = px.bar(\n",
        "    df_top,\n",
        "    x='total_price',\n",
        "    y='name',\n",
        "    orientation='h',\n",
        "    text='total_price',\n",
        "    labels={'name': 'Personagem', 'total_price': 'Valor Total dos Quadrinhos (USD)'},\n",
        "    title='Top 10 Personagens com Maior Valor Agregado em Quadrinhos'\n",
        ")\n",
        "fig.update_layout(\n",
        "    yaxis={'categoryorder': 'total ascending'},\n",
        "    xaxis_title='Valor Total (USD)',\n",
        "    yaxis_title='Personagem',\n",
        "    plot_bgcolor='rgba(0,0,0,0)',\n",
        "    hoverlabel=dict(bgcolor=\"white\", font_size=14),\n",
        ")\n",
        "fig.update_traces(\n",
        "    hovertemplate='<b>%{y}</b><br>Total: $%{x:.2f}',\n",
        "    marker_color='darkred',\n",
        "    texttemplate='$%{x:.2f}',\n",
        "    textposition='outside'\n",
        ")\n",
        "fig.show()"
      ],
      "metadata": {
        "id": "YI-fm3xEaWDc"
      },
      "execution_count": null,
      "outputs": []
    },
    {
      "cell_type": "markdown",
      "source": [
        "##Insight: Insight Top 10 Personagens com Mais Quadrinhos\n",
        "Este gráfico revela os <b/>10 personagens da Marvel que mais aparecem em quadrinhos publicados</b>, ou seja, aqueles com o <b/>maior número total de participações</b>.\n",
        "\n",
        "Esse dado ajuda a entender quais personagens têm maior <b/>exposição e relevância editorial</b> ao longo do tempo. Quanto mais quadrinhos um personagem aparece, maior tende a ser sua popularidade, importância narrativa ou apelo comercial. É uma ótima forma de identificar os <b/>protagonistas mais recorrentes do universo Marvel.</b>"
      ],
      "metadata": {
        "id": "dtittR8L4w3i"
      }
    },
    {
      "cell_type": "code",
      "source": [
        "conn = sqlite3.connect('marvel.db')\n",
        "df_char = pd.read_sql('SELECT * FROM characters', con=conn)\n",
        "df_char = pd.read_sql('SELECT * FROM characters', con=conn)\n",
        "df_top = df_char.sort_values('comics_available',ascending=False).head(10)\n",
        "fig = px.bar(\n",
        "    df_top,\n",
        "    x='comics_available',\n",
        "    y='name',\n",
        "    orientation='h',\n",
        "    text='comics_available',\n",
        "    labels={'name': 'Personagem', 'comics_available': 'Total dos Quadrinhos'},\n",
        "    title='Top 10 Personagens com Mais Quadrinhos'\n",
        ")\n",
        "fig.update_layout(\n",
        "    yaxis={'categoryorder': 'total ascending'},\n",
        "    xaxis_title='Valor Total (USD)',\n",
        "    yaxis_title='Personagem',\n",
        "    plot_bgcolor='rgba(0,0,0,0)',\n",
        "    hoverlabel=dict(bgcolor=\"white\", font_size=14),\n",
        ")\n",
        "fig.update_traces(\n",
        "    hovertemplate='<b>%{y}</b><br>Total: %{x:.2f}',\n",
        "    marker_color='darkred',\n",
        "    texttemplate='%{x:.2f}',\n",
        "    textposition='outside'\n",
        ")\n",
        "fig.show()"
      ],
      "metadata": {
        "id": "8rOV3eLViHiz"
      },
      "execution_count": null,
      "outputs": []
    },
    {
      "cell_type": "markdown",
      "source": [
        "##Insight: Visualização da distribuição de participações em Quadrinhos por Personagem\n",
        "Este gráfico mostra a <b/>distribuição da quantidade de quadrinhos em que os personagens da Marvel aparecem.</b> Cada ponto representa <b/>quantos personagens aparecem em um determinado número de quadrinhos.</b>\n",
        "\n",
        "O principal insight aqui é perceber <b/>como a maioria dos personagens aparece em poucos quadrinhos, enquanto apenas alguns poucos têm participações muito frequentes.</b> Essa visualização revela uma estrutura comum em universos extensos como o da Marvel, onde há uma grande base de personagens secundários e um número limitado de protagonistas recorrentes.<br/>\n",
        "\n",
        "Além disso uma segunda proposta de visualização feita para agregar ao insight, um gráfico de data de modificação X quantidade de quadrinhos, cuja finalidade é ter uma visão mais proxima dos personagens com grande quantidade de quadrinhos"
      ],
      "metadata": {
        "id": "I-K8NTKQ5sAq"
      }
    },
    {
      "cell_type": "code",
      "source": [
        "conn = sqlite3.connect('marvel.db')\n",
        "df_char = pd.read_sql('SELECT * FROM characters', con=conn)\n",
        "df_char['comics_available'] = pd.to_numeric(df_char['comics_available'], errors='coerce')\n",
        "df_counts = df_char['comics_available'].value_counts().sort_index()\n",
        "plt.figure(figsize=(10, 6))\n",
        "plt.scatter(df_counts.index, df_counts.values, color='salmon', edgecolor='black')\n",
        "plt.title('Distribuição de Participações em Quadrinhos por Personagem')\n",
        "plt.xlabel('Número de Quadrinhos (comics_available)')\n",
        "plt.ylabel('Número de Personagens')\n",
        "step = 500\n",
        "x_max = df_counts.index.max()\n",
        "plt.xticks(range(0, int(x_max)+1, step))\n",
        "plt.grid(axis='y', linestyle='--', alpha=0.5)\n",
        "plt.tight_layout()\n",
        "plt.show()"
      ],
      "metadata": {
        "id": "CUfkISa-vGBk"
      },
      "execution_count": null,
      "outputs": []
    },
    {
      "cell_type": "code",
      "source": [
        "conn = sqlite3.connect('marvel.db')\n",
        "df_char = pd.read_sql('SELECT * FROM characters', con=conn)\n",
        "df_char['comics_available'] = pd.to_numeric(df_char['comics_available'], errors='coerce')\n",
        "df_char['modified'] = pd.to_datetime(df_char['modified'], errors='coerce')\n",
        "df_plot = df_char.dropna(subset=['comics_available', 'modified', 'name']).copy()\n",
        "\n",
        "bins = [0, 10, 50, 100, 500, 1000, 2000, 3000, 4000,float('inf')]\n",
        "labels = ['0–10', '11–50', '51–100', '101–500', '501-1000','1001-2000','2001-3000','3001-4000','4000+']\n",
        "df_plot['faixa_comics'] = pd.cut(df_plot['comics_available'], bins=bins, labels=labels, include_lowest=True)\n",
        "\n",
        "df_plot['ano_mod'] = df_plot['modified'].dt.year.astype(str)\n",
        "\n",
        "fig = px.scatter(\n",
        "    df_plot,\n",
        "    x='comics_available',\n",
        "    y='modified',\n",
        "    color='faixa_comics',\n",
        "    hover_name='name',\n",
        "    labels={\n",
        "        'comics_available': 'Número de Quadrinhos',\n",
        "        'modified': 'Data de Modificação',\n",
        "        'faixa_comics': 'Faixa de Participações'\n",
        "    },\n",
        "    title='Participações em Quadrinhos vs. Última Modificação (por Personagem)',\n",
        "    category_orders={\"faixa_comics\": labels}\n",
        ")\n",
        "fig.update_traces(marker=dict(size=7, line=dict(width=1, color='black')))\n",
        "fig.update_layout(width=1000, height=600)\n",
        "\n",
        "anos_unicos = sorted(df_plot['ano_mod'].unique())\n",
        "\n",
        "\n",
        "fig.show()\n"
      ],
      "metadata": {
        "id": "Cumu3hBAQxio"
      },
      "execution_count": null,
      "outputs": []
    },
    {
      "cell_type": "markdown",
      "source": [
        "##Insight: Top 10 Criadores com Mais Participações em Quadrinhos\n",
        "Este gráfico apresenta os 10 criadores que mais contribuíram para quadrinhos da Marvel, considerando o número total de quadrinhos em que cada um teve participação (como escritores, ilustradores, etc.).\n",
        "\n",
        "O insight revelado é a identificação dos profissionais mais ativos ou influentes nos bastidores da Marvel, mostrando quem são os nomes mais recorrentes na produção das histórias. Isso permite entender quais criadores ajudaram a moldar o universo Marvel, tanto em termos de volume quanto de presença contínua ao longo do tempo."
      ],
      "metadata": {
        "id": "q16yBNbS6WBl"
      }
    },
    {
      "cell_type": "code",
      "source": [
        "conn = sqlite3.connect('marvel.db')\n",
        "df_comic_creators = pd.read_sql('SELECT * FROM comic_creators', con=conn)\n",
        "df_comic_prices = pd.read_sql('SELECT * FROM comic_prices', con=conn)\n",
        "df_creators = pd.read_sql('SELECT * FROM creators', con=conn)\n",
        "top_creators = df_comic_creators.groupby('creator_id').size().reset_index(name='total_comics')\n",
        "top_creators = top_creators.merge(df_creators, left_on='creator_id', right_on='id')\n",
        "if 'fullName' not in top_creators.columns or top_creators['fullName'].isnull().all():\n",
        "    top_creators['fullName'] = top_creators[['firstName', 'middleName', 'lastName', 'suffix']].fillna('').agg(' '.join, axis=1).str.strip()\n",
        "top_10 = top_creators.sort_values('total_comics', ascending=False).head(10)\n",
        "fig = px.bar(\n",
        "    top_10,\n",
        "    x='total_comics',\n",
        "    y='fullName',\n",
        "    orientation='h',\n",
        "    color_discrete_sequence=['darkred'],\n",
        "    hover_data={'total_comics': True, 'fullName': False}\n",
        ")\n",
        "fig.update_layout(\n",
        "    title='Top 10 Criadores com Mais Participações em Quadrinhos',\n",
        "    xaxis_title='Total de Quadrinhos',\n",
        "    yaxis_title='Criadores',\n",
        "    yaxis=dict(autorange='reversed')\n",
        ")\n",
        "fig.show()\n"
      ],
      "metadata": {
        "id": "4sa0N7oYAecq"
      },
      "execution_count": null,
      "outputs": []
    },
    {
      "cell_type": "markdown",
      "source": [
        "##Insight: 10 Criadores com Maior Valor Agregado em Quadrinhos\n",
        "Este gráfico destaca os 10 criadores da Marvel cujos quadrinhos somam o maior valor total de preço, ou seja, aqueles cuja participação está associada aos quadrinhos mais valiosos no conjunto de dados.\n",
        "\n",
        "O insight obtido permite entender quais criadores agregam mais valor comercial às obras em que trabalham, seja por participarem de edições especiais, colecionáveis ou de alto impacto. Isso ajuda a identificar figuras de maior prestígio ou influência no mercado editorial, com potencial para movimentar mais receita por meio de suas colaborações."
      ],
      "metadata": {
        "id": "xeV2mk6f7ROe"
      }
    },
    {
      "cell_type": "code",
      "source": [
        "conn = sqlite3.connect('marvel.db')\n",
        "df_creators = pd.read_sql('SELECT * FROM creators', con=conn)\n",
        "top_creators = df_comic_creators.groupby('creator_id').size().reset_index(name='total_comics')\n",
        "top_creators = top_creators.merge(df_creators, left_on='creator_id', right_on='id')\n",
        "top_10 = top_creators.sort_values('total_comics', ascending=False).head(10)\n",
        "top_10_ids = top_10['creator_id']\n",
        "df_top_creators_comics = df_comic_creators[df_comic_creators['creator_id'].isin(top_10_ids)]\n",
        "df_prices = df_top_creators_comics.merge(df_comic_prices, on='comic_id')\n",
        "price_sum = df_prices.groupby('creator_id')['price'].sum().reset_index(name='total_price')\n",
        "price_sum = price_sum.merge(df_creators, left_on='creator_id', right_on='id')\n",
        "if 'fullName' not in price_sum.columns or price_sum['fullName'].isnull().all():\n",
        "    price_sum['fullName'] = price_sum[['firstName', 'middleName', 'lastName', 'suffix']].fillna('').agg(' '.join, axis=1).str.strip()\n",
        "price_sum = price_sum.sort_values('total_price', ascending=False)\n",
        "fig = px.bar(\n",
        "    price_sum,\n",
        "    x='total_price',\n",
        "    y='fullName',\n",
        "    orientation='h',\n",
        "    color_discrete_sequence=['darkred'],\n",
        "    hover_data={'total_price': True, 'fullName': False}\n",
        ")\n",
        "fig.update_layout(\n",
        "    title='Top 10 Criadores com Maior Valor Agregado em Quadrinhos',\n",
        "    xaxis_title='Soma dos Preços (USD)',\n",
        "    yaxis_title='Criadores',\n",
        "    yaxis=dict(autorange='reversed')\n",
        ")\n",
        "fig.show()"
      ],
      "metadata": {
        "id": "sw5L381KCv_3"
      },
      "execution_count": null,
      "outputs": []
    },
    {
      "cell_type": "markdown",
      "source": [
        "##Insight: 10 Criadores com Maior Total de Páginas em Quadrinhos\n",
        "Este gráfico mostra os <b/>10 criadores da Marvel que somam o maior número total de páginas em quadrinhos publicados</b>, ou seja, os <b/>profissionais com maior volume de conteúdo produzido</b>.\n",
        "\n",
        "Esse insight evidencia <b/>quais criadores tiveram maior participação em termos de quantidade de material gerado</b>, independentemente do número de edições. Pode indicar <b/>profissionais com envolvimento profundo e recorrente em projetos longos</b>, como escritores ou artistas que contribuíram com arcos inteiros, sendo uma métrica de <b/>produtividade e presença contínua no universo Marvel.</b>"
      ],
      "metadata": {
        "id": "MIC8yRZA7aj-"
      }
    },
    {
      "cell_type": "code",
      "source": [
        "conn = sqlite3.connect('marvel.db')\n",
        "df_comics = pd.read_sql('SELECT * FROM comics', con=conn)\n",
        "df_creator_comics = df_comic_creators[df_comic_creators['creator_id'].isin(top_10_ids)]\n",
        "df_comics_renamed = df_comics[['id', 'page_count']].rename(columns={'id': 'comic_id'})\n",
        "df_creator_pages = df_creator_comics.merge(df_comics_renamed, on='comic_id')\n",
        "df_pages_sum = df_creator_pages.groupby('creator_id')['page_count'].sum().reset_index(name='total_pages')\n",
        "df_pages_sum = df_pages_sum.merge(df_creators, left_on='creator_id', right_on='id')\n",
        "if 'fullName' not in df_pages_sum.columns or df_pages_sum['fullName'].isnull().all():\n",
        "    df_pages_sum['fullName'] = df_pages_sum[['firstName', 'middleName', 'lastName', 'suffix']].fillna('').agg(' '.join, axis=1).str.strip()\n",
        "df_pages_sum = df_pages_sum.sort_values('total_pages', ascending=False)\n",
        "fig = px.bar(\n",
        "    df_pages_sum,\n",
        "    x='total_pages',\n",
        "    y='fullName',\n",
        "    orientation='h',\n",
        "    color_discrete_sequence=['darkred'],\n",
        "    hover_data={'total_pages': True, 'fullName': False}\n",
        ")\n",
        "fig.update_layout(\n",
        "    title='Top 10 Criadores com Maior Total de Páginas em Quadrinhos',\n",
        "    xaxis_title='Total de Páginas',\n",
        "    yaxis_title='Criadores',\n",
        "    yaxis=dict(autorange='reversed')\n",
        ")\n",
        "fig.show()"
      ],
      "metadata": {
        "id": "X5t7uteEFKqM"
      },
      "execution_count": null,
      "outputs": []
    },
    {
      "cell_type": "markdown",
      "source": [
        "##Dificuldade durante o desenvolvimento do projeto:\n"
      ],
      "metadata": {
        "id": "CUA8S0SHE70U"
      }
    }
  ]
}