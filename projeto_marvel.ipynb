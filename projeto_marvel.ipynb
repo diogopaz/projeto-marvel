{
  "nbformat": 4,
  "nbformat_minor": 0,
  "metadata": {
    "colab": {
      "provenance": [],
      "include_colab_link": true
    },
    "kernelspec": {
      "name": "python3",
      "display_name": "Python 3"
    },
    "language_info": {
      "name": "python"
    }
  },
  "cells": [
    {
      "cell_type": "markdown",
      "metadata": {
        "id": "view-in-github",
        "colab_type": "text"
      },
      "source": [
        "<a href=\"https://colab.research.google.com/github/diogopaz/projeto-marvel/blob/code-documentation/projeto_marvel.ipynb\" target=\"_parent\"><img src=\"https://colab.research.google.com/assets/colab-badge.svg\" alt=\"Open In Colab\"/></a>"
      ]
    },
    {
      "cell_type": "markdown",
      "source": [
        "## Importando bibliotecas necessárias"
      ],
      "metadata": {
        "id": "vdNqYaOZWaHi"
      }
    },
    {
      "cell_type": "code",
      "execution_count": null,
      "metadata": {
        "id": "tMDmYgk_y8wZ"
      },
      "outputs": [],
      "source": [
        "!pip install dotenv --quiet\n",
        "!pip install plotly --quiet"
      ]
    },
    {
      "cell_type": "code",
      "source": [
        "import requests\n",
        "import hashlib\n",
        "import time\n",
        "import os\n",
        "import pandas as pd\n",
        "from dotenv import load_dotenv\n",
        "import sqlite3\n",
        "from google.colab import userdata\n",
        "import matplotlib.pyplot as plt\n",
        "import plotly.express as px\n",
        "import plotly.graph_objects as go"
      ],
      "metadata": {
        "id": "dpKgBGHWWmPs"
      },
      "execution_count": null,
      "outputs": []
    },
    {
      "cell_type": "markdown",
      "source": [
        "## Carregando variáveis de ambiente\n",
        "Estamos fazendo upload do arquivo `.env` com as chaves de acesso à API no ambeinte de execução do colab. Como alternativa, também é possível salvar as chaves nos `secrets` do colab e usá-las nas requisições."
      ],
      "metadata": {
        "id": "r_cOQZZ2XEZy"
      }
    },
    {
      "cell_type": "code",
      "source": [
        "load_dotenv(dotenv_path='/content/.env')\n",
        "public_key = userdata.get('MARVEL_PUBLIC_KEY') or os.getenv('MARVEL_PUBLIC_KEY')\n",
        "private_key = userdata.get('MARVEL_PRIVATE_KEY') or os.getenv('MARVEL_PRIVATE_KEY')"
      ],
      "metadata": {
        "id": "GiFPSe23XIIp"
      },
      "execution_count": null,
      "outputs": []
    },
    {
      "cell_type": "markdown",
      "source": [
        "## Montando os parâmetros para realizar a requisição"
      ],
      "metadata": {
        "id": "mUmpTS3_X3-a"
      }
    },
    {
      "cell_type": "code",
      "source": [
        "def get_auth_params():\n",
        "    ts = str(time.time())\n",
        "    to_hash = ts + private_key + public_key\n",
        "    hash_md5 = hashlib.md5(to_hash.encode()).hexdigest()\n",
        "    return {\n",
        "        'ts': ts,\n",
        "        'apikey': public_key,\n",
        "        'hash': hash_md5\n",
        "    }"
      ],
      "metadata": {
        "id": "KA7kXDAwX83L"
      },
      "execution_count": null,
      "outputs": []
    },
    {
      "cell_type": "markdown",
      "source": [
        "## Buscando os dados na API da Marvel"
      ],
      "metadata": {
        "id": "7gCmqovRavmK"
      }
    },
    {
      "cell_type": "markdown",
      "source": [
        "A função `fetch_from_marvel` retorna todos os dados do endpoint passado como parâmetro em um DataFrame e exporta os dados brutos para um arquivo `.csv`."
      ],
      "metadata": {
        "id": "JKNiup9bDr85"
      }
    },
    {
      "cell_type": "code",
      "source": [
        "def fetch_from_marvel(endpoint, limit = 100, offset = 0):\n",
        "  \"Busca todos os resultados de um endpoint paginado da Marvel API\"\n",
        "  limit = limit\n",
        "  offset = offset\n",
        "  all_results = []\n",
        "  total = 1\n",
        "  req_count = 0\n",
        "\n",
        "  print(f\"Iniciando requisições para o endpoint: {endpoint}\")\n",
        "\n",
        "  while offset < total:\n",
        "    params = get_auth_params()\n",
        "    params[\"limit\"] = limit\n",
        "    params[\"offset\"] = offset\n",
        "\n",
        "    try:\n",
        "      response = requests.get(endpoint, params=params)\n",
        "      response.raise_for_status()\n",
        "      data = response.json().get(\"data\", {})\n",
        "      total = data['total']\n",
        "      results = data.get(\"results\", [])\n",
        "      if not results:\n",
        "        break\n",
        "\n",
        "      all_results.extend(results)\n",
        "      print(f\"Recebidos {len(results)} resultados (offset {offset})\")\n",
        "\n",
        "      offset += limit\n",
        "      req_count += 1\n",
        "      time.sleep(1)\n",
        "    except Exception as e:\n",
        "      print(f\"Erro em offset {offset}: {e}. Pulando...\")\n",
        "      offset += limit\n",
        "      req_count += 1\n",
        "      time.sleep(1)\n",
        "\n",
        "  # Exportando dados brutos para csv\n",
        "  df = pd.DataFrame(all_results)\n",
        "  df.to_csv(f'{endpoint.split(\"/\")[-1]}.csv')\n",
        "\n",
        "  print(f'''\n",
        "  Sucesso! Recebidos {len(all_results)} resultados.\n",
        "  Requisições realizadas: {req_count}.\n",
        "  Dados brutos salvos em: {endpoint.split(\"/\")[-1]}.csv\n",
        "  ''')\n",
        "\n",
        "  return df"
      ],
      "metadata": {
        "id": "e1PB7KXYk_vo"
      },
      "execution_count": null,
      "outputs": []
    },
    {
      "cell_type": "markdown",
      "source": [
        "## Filtrando os dados e salvando no banco"
      ],
      "metadata": {
        "id": "9uoCjDjN7Fi4"
      }
    },
    {
      "cell_type": "markdown",
      "source": [
        "### Funções auxiliares"
      ],
      "metadata": {
        "id": "s40p8C2N_qXa"
      }
    },
    {
      "cell_type": "markdown",
      "source": [
        "A função `to_db` salva o DataFrame com dados filtrados no banco de dados selecionado."
      ],
      "metadata": {
        "id": "adIbEmQXE34d"
      }
    },
    {
      "cell_type": "code",
      "source": [
        "def to_db(df, table_name, db_name):\n",
        "  try:\n",
        "    conn = sqlite3.connect(f\"{db_name}.db\")\n",
        "    df.to_sql(table_name, conn, index=False, if_exists='replace')\n",
        "    conn.commit()\n",
        "    conn.close()\n",
        "    print('Dados salvos no banco')\n",
        "  except Exception as e:\n",
        "    conn.close()\n",
        "    print(e)"
      ],
      "metadata": {
        "id": "OfDDNu3-y5vY"
      },
      "execution_count": null,
      "outputs": []
    },
    {
      "cell_type": "markdown",
      "source": [
        "A função `extract_comic_prices` cria um DataFrame relacionando cada quadrinho com seus preços."
      ],
      "metadata": {
        "id": "LYgf0qHFpJQ7"
      }
    },
    {
      "cell_type": "code",
      "source": [
        "# Cria um DataFrame relacionando cada quadrinho com seus preços\n",
        "def extract_comic_prices(df_comics):\n",
        "  records = []\n",
        "  for _, row in df_comics.iterrows():\n",
        "    comic_id = row.get('id')\n",
        "    for price in row.get('prices', []):\n",
        "      records.append({\n",
        "        'comic_id': comic_id,\n",
        "        'type': price.get('type', ''),\n",
        "        'price': price.get('price', 0.0)\n",
        "      })\n",
        "  return pd.DataFrame(records)"
      ],
      "metadata": {
        "id": "n9GFPdLDpQ6N"
      },
      "execution_count": null,
      "outputs": []
    },
    {
      "cell_type": "markdown",
      "source": [
        "A função `extract_comic_creators` cria um Dataframe que relaciona cada quadrinho com seus criadores"
      ],
      "metadata": {
        "id": "pbbOYpsawDrQ"
      }
    },
    {
      "cell_type": "code",
      "source": [
        "# Cria um DataFrame relacionando cada quadrinho com seus criadores\n",
        "def extract_comic_creators(df_comics):\n",
        "  records = []\n",
        "  for _, row in df_comics.iterrows():\n",
        "    comic_id = row.get('id')\n",
        "    for creator in row.get('creators', {}).get('items', []):\n",
        "      try:\n",
        "        resource_uri = creator.get('resourceURI', '')\n",
        "        creator_id = int(resource_uri.strip().split('/')[-1])\n",
        "        role = creator.get('role', '')\n",
        "        records.append({\n",
        "          'comic_id': comic_id,\n",
        "          'creator_id': creator_id,\n",
        "          'role': role\n",
        "        })\n",
        "      except (IndexError, ValueError):\n",
        "        continue\n",
        "  return pd.DataFrame(records)"
      ],
      "metadata": {
        "id": "NBMdPK68r3jx"
      },
      "execution_count": null,
      "outputs": []
    },
    {
      "cell_type": "markdown",
      "source": [
        "A função `extract_character_comics` cria um DataFrame com a relação entre os personagens (passados como uma lista de id's) e os quadrinhos que eles possuem."
      ],
      "metadata": {
        "id": "IaPROoW-wNSV"
      }
    },
    {
      "cell_type": "code",
      "source": [
        "def extract_character_comics(character_ids):\n",
        "    all_pairs = []\n",
        "\n",
        "    for character_id in character_ids:\n",
        "        print(f\"Buscando comics para o personagem {character_id}...\")\n",
        "        try:\n",
        "            endpoint = f\"https://gateway.marvel.com/v1/public/characters/{character_id}/comics\"\n",
        "            limit = 100\n",
        "            offset = 0\n",
        "            total = 1\n",
        "\n",
        "            while offset < total:\n",
        "                params = get_auth_params()\n",
        "                params.update({\"limit\": limit, \"offset\": offset})\n",
        "                response = requests.get(endpoint, params=params)\n",
        "                response.raise_for_status()\n",
        "                data = response.json().get(\"data\", {})\n",
        "                total = data.get(\"total\", 0)\n",
        "                results = data.get(\"results\", [])\n",
        "\n",
        "                for comic in results:\n",
        "                    comic_id = comic.get(\"id\")\n",
        "                    if comic_id:\n",
        "                        all_pairs.append({\n",
        "                            \"character_id\": character_id,\n",
        "                            \"comic_id\": comic_id\n",
        "                        })\n",
        "\n",
        "                offset += limit\n",
        "                time.sleep(0.1)\n",
        "\n",
        "        except Exception as e:\n",
        "            print(f\"Erro ao processar o personagem {character_id}: {e}\")\n",
        "\n",
        "    df = pd.DataFrame(all_pairs)\n",
        "    return df\n"
      ],
      "metadata": {
        "id": "TnzXPbjewXXz"
      },
      "execution_count": null,
      "outputs": []
    },
    {
      "cell_type": "markdown",
      "source": [
        "### Tratamento dos dados\n",
        "A partir dos resultados retornados de cada endpoint e tranformados em DataFrames, tratamos os dados para salvar no banco apenas as informações relevantes."
      ],
      "metadata": {
        "id": "DTYb1dYQbaoK"
      }
    },
    {
      "cell_type": "markdown",
      "source": [
        "Personagens:"
      ],
      "metadata": {
        "id": "XKFKtTIxIIu5"
      }
    },
    {
      "cell_type": "code",
      "source": [
        "characters = fetch_from_marvel('https://gateway.marvel.com/v1/public/characters')\n",
        "characters['comics_available'] = characters['comics'].apply(lambda x: x.get('available'))\n",
        "characters = characters[['id', 'name', 'description', 'modified', 'comics_available']]\n",
        "\n",
        "# Para nossa análise, precisamos armazenar a relação personagem/quadrinho apenas dos 10 personagens que mais possuem quadrinhos\n",
        "top_10_ids = characters.sort_values(by=\"comics_available\", ascending=False).head(10)[\"id\"].tolist()\n",
        "character_comics = extract_character_comics(top_10_ids)\n",
        "\n",
        "# Salvando o personagens e a relação personagem/quadrinho no banco\n",
        "to_db(characters, table_name='characters', db_name='teste4')\n",
        "to_db(character_comics, table_name='character_comics', db_name='teste4')"
      ],
      "metadata": {
        "id": "uIZeBRB8Zc8D"
      },
      "execution_count": null,
      "outputs": []
    },
    {
      "cell_type": "markdown",
      "source": [
        "Quadrinhos:"
      ],
      "metadata": {
        "id": "UgGFR-dnbeSJ"
      }
    },
    {
      "cell_type": "code",
      "source": [
        "comics = fetch_from_marvel('https://gateway.marvel.com/v1/public/comics')\n",
        "comic_prices = extract_comic_prices(comics)\n",
        "comic_creators = extract_comic_creators(comics)\n",
        "\n",
        "comics['variant_count'] = comics['variants'].apply(lambda x: len(x))\n",
        "comics['page_count'] = comics['pageCount']\n",
        "comics = comics[['id', 'title', 'page_count', 'variant_count']]\n",
        "\n",
        "# Salvando os dados de quadrinhos e as relações quadrinho/preços e quadrinho/criadores no banco:\n",
        "to_db(comics, table_name='comics', db_name='marvel')\n",
        "to_db(comic_prices, table_name='comic_prices', db_name='marvel')\n",
        "to_db(comic_creators, table_name='comic_creators', db_name='marvel')"
      ],
      "metadata": {
        "id": "dWbU8rkG494t"
      },
      "execution_count": null,
      "outputs": []
    },
    {
      "cell_type": "markdown",
      "source": [
        "Criadores:"
      ],
      "metadata": {
        "id": "F6gaIlPGbgDD"
      }
    },
    {
      "cell_type": "code",
      "source": [
        "creators = fetch_from_marvel('https://gateway.marvel.com/v1/public/creators', 20)\n",
        "# Pegando 20 resultados por requisição, pois este endpoint possui muitos offsets que retornam erro\n",
        "\n",
        "creators = creators[['id', 'firstName', 'middleName', 'lastName', 'suffix', 'fullName', 'modified']]\n",
        "to_db(creators, table_name='creators', db_name='marvel')"
      ],
      "metadata": {
        "id": "WEX_y313ZsMx"
      },
      "execution_count": null,
      "outputs": []
    },
    {
      "cell_type": "markdown",
      "source": [
        "## Insights"
      ],
      "metadata": {
        "id": "SWbiEfAtrPx9"
      }
    },
    {
      "cell_type": "code",
      "source": [
        "conn = sqlite3.connect('marvel.db')\n",
        "cursor = conn.cursor()\n",
        "cursor.execute('select * from characters')\n",
        "charr = cursor.fetchall()\n",
        "df_char = pd.DataFrame(charr, columns=['id', 'name', 'description', 'modified', 'comic_available'])\n",
        "df_char.sort_values('comic_available', ascending=False)"
      ],
      "metadata": {
        "id": "7ZJ8CpXgd73C"
      },
      "execution_count": null,
      "outputs": []
    },
    {
      "cell_type": "code",
      "source": [
        "df_char['comic_available'] = pd.to_numeric(df_char['comic_available'], errors='coerce')\n",
        "df_counts = df_char['comic_available'].value_counts().sort_index()\n",
        "\n",
        "plt.figure(figsize=(10, 6))\n",
        "plt.scatter(df_counts.index, df_counts.values, color='salmon', edgecolor='black')\n",
        "plt.title('Distribuição de Participações em Quadrinhos por Personagem')\n",
        "plt.xlabel('Número de Quadrinhos (comic_available)')\n",
        "plt.ylabel('Número de Personagens')\n",
        "\n",
        "step = 500\n",
        "x_max = df_counts.index.max()\n",
        "plt.xticks(range(0, int(x_max)+1, step))\n",
        "\n",
        "plt.grid(axis='y', linestyle='--', alpha=0.5)\n",
        "plt.tight_layout()\n",
        "plt.show()"
      ],
      "metadata": {
        "id": "CUfkISa-vGBk"
      },
      "execution_count": null,
      "outputs": []
    },
    {
      "cell_type": "code",
      "source": [
        "df_char['comic_available'] = pd.to_numeric(df_char['comic_available'], errors='coerce')\n",
        "df_counts = df_char['comic_available'].value_counts().sort_index()\n",
        "df_plot = df_counts.reset_index()\n",
        "df_plot.columns = ['comic_available', 'num_personagens']\n",
        "\n",
        "fig = px.scatter(\n",
        "    df_plot,\n",
        "    x='comic_available',\n",
        "    y='num_personagens',\n",
        "    labels={\n",
        "        'comic_available': 'Número de Quadrinhos',\n",
        "        'num_personagens': 'Número de Personagens'\n",
        "    },\n",
        "    title='Distribuição de Participações em Quadrinhos por Personagem',\n",
        "    hover_data={\n",
        "        'comic_available': True,\n",
        "        'num_personagens': True\n",
        "    }\n",
        ")\n",
        "\n",
        "fig.update_traces(marker=dict(color='salmon', line=dict(width=1, color='black')))\n",
        "fig.update_layout(width=900, height=500)\n",
        "fig.show()"
      ],
      "metadata": {
        "id": "t2_hNuU4yJnl"
      },
      "execution_count": null,
      "outputs": []
    },
    {
      "cell_type": "code",
      "source": [
        "df_char['comic_available'] = pd.to_numeric(df_char['comic_available'], errors='coerce')\n",
        "df_char['modified'] = pd.to_datetime(df_char['modified'], errors='coerce')\n",
        "\n",
        "df_plot = df_char.dropna(subset=['comic_available', 'modified', 'name'])\n",
        "\n",
        "fig = px.scatter(\n",
        "    df_plot,\n",
        "    x='comic_available',\n",
        "    y='modified',\n",
        "    hover_name='name',\n",
        "    labels={\n",
        "        'comic_available': 'Número de Quadrinhos',\n",
        "        'modified': 'Última Modificação'\n",
        "    },\n",
        "    title='Participações em Quadrinhos vs. Última Modificação (por Personagem)'\n",
        ")\n",
        "\n",
        "fig.update_traces(marker=dict(color='salmon', size=7, line=dict(width=1, color='black')))\n",
        "fig.update_layout(width=950, height=550)\n",
        "fig.show()"
      ],
      "metadata": {
        "id": "YoKExRDRPl3U"
      },
      "execution_count": null,
      "outputs": []
    },
    {
      "cell_type": "code",
      "source": [
        "df_char['comic_available'] = pd.to_numeric(df_char['comic_available'], errors='coerce')\n",
        "df_char['modified'] = pd.to_datetime(df_char['modified'], errors='coerce')\n",
        "df_plot = df_char.dropna(subset=['comic_available', 'modified', 'name']).copy()\n",
        "\n",
        "bins = [0, 10, 50, 100, 500, 1000, 2000, 3000, 4000,float('inf')]\n",
        "labels = ['0–10', '11–50', '51–100', '101–500', '501-1000','1001-2000','2001-3000','3001-4000','4000+']\n",
        "df_plot['faixa_comics'] = pd.cut(df_plot['comic_available'], bins=bins, labels=labels, include_lowest=True)\n",
        "\n",
        "df_plot['ano_mod'] = df_plot['modified'].dt.year.astype(str)\n",
        "\n",
        "fig = px.scatter(\n",
        "    df_plot,\n",
        "    x='comic_available',\n",
        "    y='modified',\n",
        "    color='faixa_comics',\n",
        "    hover_name='name',\n",
        "    labels={\n",
        "        'comic_available': 'Número de Quadrinhos',\n",
        "        'modified': 'Data de Modificação',\n",
        "        'faixa_comics': 'Faixa de Participações'\n",
        "    },\n",
        "    title='Participações em Quadrinhos vs. Última Modificação (por Personagem)',\n",
        "    category_orders={\"faixa_comics\": labels}\n",
        ")\n",
        "fig.update_traces(marker=dict(size=7, line=dict(width=1, color='black')))\n",
        "fig.update_layout(width=1000, height=600)\n",
        "\n",
        "anos_unicos = sorted(df_plot['ano_mod'].unique())\n",
        "\n",
        "fig.update_layout(\n",
        "    updatemenus=[\n",
        "        {\n",
        "            \"buttons\": [\n",
        "                {\"label\": \"Todos os anos\", \"method\": \"restyle\", \"args\": [\"visible\", [True]*len(df_plot)]}\n",
        "            ] + [\n",
        "                {\n",
        "                    \"label\": ano,\n",
        "                    \"method\": \"update\",\n",
        "                    \"args\": [\n",
        "                        {\"visible\": df_plot['ano_mod'] == ano},\n",
        "                        {\"title\": f\"Personagens modificados em {ano}\"}\n",
        "                    ]\n",
        "                }\n",
        "                for ano in anos_unicos\n",
        "            ],\n",
        "            \"direction\": \"down\",\n",
        "            \"showactive\": True,\n",
        "            \"x\": 1.1,\n",
        "            \"xanchor\": \"left\",\n",
        "            \"y\": 1.15,\n",
        "            \"yanchor\": \"top\"\n",
        "        }\n",
        "    ]\n",
        ")\n",
        "\n",
        "fig.show()\n"
      ],
      "metadata": {
        "id": "Cumu3hBAQxio"
      },
      "execution_count": null,
      "outputs": []
    },
    {
      "cell_type": "code",
      "source": [
        "df_char['comic_available'] = pd.to_numeric(df_char['comic_available'], errors='coerce')\n",
        "df_char['modified'] = pd.to_datetime(df_char['modified'], errors='coerce')\n",
        "df_plot = df_char.dropna(subset=['comic_available', 'modified', 'name']).copy()\n",
        "\n",
        "# As cores estão aqui!!!!\n",
        "bins = [0, 10, 50, 100, 500, 1000, 2000, 3000, 4000,float('inf')]\n",
        "labels = ['0–10', '11–50', '51–100', '101–500', '501-1000','1001-2000','2001-3000','3001-4000','4000+']\n",
        "cores = {\n",
        "    '0–10': 'lightgray',\n",
        "    '11–50': 'lightskyblue',\n",
        "    '51–100': 'dodgerblue',\n",
        "    '101–500': 'seagreen',\n",
        "    '501-1000': 'crimson',\n",
        "    '1001-2000':'indigo',\n",
        "    '2001-3000':'gold',\n",
        "    '3001-4000':'darkturquoise',\n",
        "    '4000+':'darkblue'\n",
        "}\n",
        "df_plot['faixa_comics'] = pd.cut(df_plot['comic_available'], bins=bins, labels=labels, include_lowest=True)\n",
        "df_plot['cor_faixa'] = df_plot['faixa_comics'].map(cores)\n",
        "\n",
        "\n",
        "df_plot['ano_mod'] = df_plot['modified'].dt.year\n",
        "anos_unicos = sorted(df_plot['ano_mod'].dropna().unique())\n",
        "\n",
        "\n",
        "fig = go.Figure()\n",
        "\n",
        "for ano in anos_unicos:\n",
        "    df_ano = df_plot[df_plot['ano_mod'] == ano]\n",
        "    fig.add_trace(go.Scatter(\n",
        "        x=df_ano['comic_available'],\n",
        "        y=df_ano['modified'],\n",
        "        mode='markers',\n",
        "        marker=dict(size=7, color=df_ano['cor_faixa'], line=dict(width=1, color='black')),\n",
        "        name=str(ano),\n",
        "        text=df_ano['name'],\n",
        "        hovertemplate='<b>%{text}</b><br>Quadrinhos: %{x}<br>Modificado: %{y|%Y-%m-%d}<extra></extra>',\n",
        "        visible=True if ano == anos_unicos[0] else False\n",
        "    ))\n",
        "\n",
        "buttons = [\n",
        "    dict(\n",
        "        label=\"Todos os anos\",\n",
        "        method=\"update\",\n",
        "        args=[{\"visible\": [True] * len(anos_unicos)},\n",
        "              {\"title\": \"Todos os Anos\"}]\n",
        "    )\n",
        "]\n",
        "\n",
        "for i, ano in enumerate(anos_unicos):\n",
        "    vis = [False] * len(anos_unicos)\n",
        "    vis[i] = True\n",
        "    buttons.append(\n",
        "        dict(\n",
        "            label=str(ano),\n",
        "            #color=cores,\n",
        "            method=\"update\",\n",
        "            args=[{\"visible\": vis},\n",
        "                  {\"title\": f\"Personagens modificados em {ano}\"}]\n",
        "        )\n",
        "    )\n",
        "\n",
        "fig.update_layout(\n",
        "    title=\"Participações em Quadrinhos vs. Data de Modificação (com Filtro por Ano)\",\n",
        "    xaxis_title=\"Número de Quadrinhos\",\n",
        "    yaxis_title=\"Data de Modificação\",\n",
        "    width=1000,\n",
        "    height=600,\n",
        "    updatemenus=[dict(\n",
        "        type=\"dropdown\",\n",
        "        direction=\"down\",\n",
        "        buttons=buttons,\n",
        "        x=1.1,\n",
        "        xanchor=\"left\",\n",
        "        y=1.15,\n",
        "        yanchor=\"top\"\n",
        "    )],\n",
        "    legend_title_text=\"Faixas de Quadrinhos\"\n",
        ")\n",
        "fig.show()\n"
      ],
      "metadata": {
        "id": "29KiBxMWSd6r"
      },
      "execution_count": null,
      "outputs": []
    }
  ]
}